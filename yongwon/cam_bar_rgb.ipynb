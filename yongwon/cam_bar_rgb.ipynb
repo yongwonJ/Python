{
 "cells": [
  {
   "cell_type": "code",
   "execution_count": 1,
   "metadata": {},
   "outputs": [],
   "source": [
    "import cv2\n",
    "import numpy as np\n",
    "\n",
    "path1 = 'catt.jpg'\n",
    "\n",
    "img1 = cv2.imread(path1)\n",
    "\n",
    "roi = img1[100:200, 100:200, :]\n",
    "\n",
    "def on_trackbar_change(val):\n",
    "    b = cv2.getTrackbarPos('B', 'Cut image')\n",
    "    g = cv2.getTrackbarPos('G', 'Cut image')\n",
    "    r = cv2.getTrackbarPos('R', 'Cut image')\n",
    "\n",
    "    modified_roi = roi.copy()\n",
    "    modified_roi[:, :, 0] = b\n",
    "    modified_roi[:, :, 1] = g\n",
    "    modified_roi[:, :, 2] = r\n",
    "\n",
    "    cv2.imshow(\"Cut image\", modified_roi)\n",
    "\n",
    "cv2.namedWindow(\"Cut image\")\n",
    "\n",
    "cv2.createTrackbar('B', 'Cut image', 0, 255, on_trackbar_change)\n",
    "cv2.createTrackbar('G', 'Cut image', 0, 255, on_trackbar_change)\n",
    "cv2.createTrackbar('R', 'Cut image', 0, 255, on_trackbar_change)\n",
    "\n",
    "cv2.setTrackbarPos('B', 'Cut image', 0)\n",
    "cv2.setTrackbarPos('G', 'Cut image', 0)\n",
    "cv2.setTrackbarPos('R', 'Cut image', 0)\n",
    "\n",
    "on_trackbar_change(roi)\n",
    "\n",
    "cv2.waitKey(0)\n",
    "cv2.destroyAllWindows()"
   ]
  }
 ],
 "metadata": {
  "kernelspec": {
   "display_name": "yongwon",
   "language": "python",
   "name": "python3"
  },
  "language_info": {
   "codemirror_mode": {
    "name": "ipython",
    "version": 3
   },
   "file_extension": ".py",
   "mimetype": "text/x-python",
   "name": "python",
   "nbconvert_exporter": "python",
   "pygments_lexer": "ipython3",
   "version": "3.10.0"
  }
 },
 "nbformat": 4,
 "nbformat_minor": 2
}
