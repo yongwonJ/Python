{
 "cells": [
  {
   "cell_type": "code",
   "execution_count": 13,
   "metadata": {},
   "outputs": [
    {
     "name": "stdout",
     "output_type": "stream",
     "text": [
      "1\n",
      "눈: ()\n"
     ]
    },
    {
     "ename": "IndexError",
     "evalue": "tuple index out of range",
     "output_type": "error",
     "traceback": [
      "\u001b[1;31m---------------------------------------------------------------------------\u001b[0m",
      "\u001b[1;31mIndexError\u001b[0m                                Traceback (most recent call last)",
      "Cell \u001b[1;32mIn[13], line 29\u001b[0m\n\u001b[0;32m     26\u001b[0m     eyes \u001b[38;5;241m=\u001b[39m e_cascade\u001b[38;5;241m.\u001b[39mdetectMultiScale(roi_gray,minSize \u001b[38;5;241m=\u001b[39m (\u001b[38;5;241m30\u001b[39m,\u001b[38;5;241m30\u001b[39m))\n\u001b[0;32m     27\u001b[0m     \u001b[38;5;28mprint\u001b[39m(\u001b[38;5;124mf\u001b[39m\u001b[38;5;124m\"\u001b[39m\u001b[38;5;124m눈: \u001b[39m\u001b[38;5;132;01m{\u001b[39;00meyes\u001b[38;5;132;01m}\u001b[39;00m\u001b[38;5;124m\"\u001b[39m)\n\u001b[1;32m---> 29\u001b[0m     cv2\u001b[38;5;241m.\u001b[39mrectangle(roi_color,(\u001b[43meyes\u001b[49m\u001b[43m[\u001b[49m\u001b[38;5;241;43m0\u001b[39;49m\u001b[43m]\u001b[49m[\u001b[38;5;241m0\u001b[39m],eyes[\u001b[38;5;241m0\u001b[39m][\u001b[38;5;241m1\u001b[39m]),(eyes[\u001b[38;5;241m1\u001b[39m][\u001b[38;5;241m0\u001b[39m]\u001b[38;5;241m+\u001b[39meyes[\u001b[38;5;241m1\u001b[39m][\u001b[38;5;241m2\u001b[39m],eyes[\u001b[38;5;241m1\u001b[39m][\u001b[38;5;241m1\u001b[39m]\u001b[38;5;241m+\u001b[39meyes[\u001b[38;5;241m1\u001b[39m][\u001b[38;5;241m3\u001b[39m]),(\u001b[38;5;241m0\u001b[39m,\u001b[38;5;241m255\u001b[39m,\u001b[38;5;241m0\u001b[39m),\u001b[38;5;241m2\u001b[39m)\n\u001b[0;32m     32\u001b[0m cv2\u001b[38;5;241m.\u001b[39mimshow(\u001b[38;5;124m\"\u001b[39m\u001b[38;5;124mVideo\u001b[39m\u001b[38;5;124m\"\u001b[39m, frame)\n\u001b[0;32m     33\u001b[0m \u001b[38;5;66;03m#cv2.imshow(\"Gray\", gray_frame )\u001b[39;00m\n",
      "\u001b[1;31mIndexError\u001b[0m: tuple index out of range"
     ]
    }
   ],
   "source": [
    "import cv2\n",
    "\n",
    "# camera 준비\n",
    "cap = cv2.VideoCapture(0)\n",
    "face_cascade = cv2.CascadeClassifier(r'haarcascade_frontalface_default.xml')\n",
    "e_cascade = cv2.CascadeClassifier(r'haarcascade_eye.xml')\n",
    "# 비디오 사이즈를 바꾸고 싶을 때,\n",
    "# 3 이 width, 100이 height \n",
    "# cap.set(3,100)\n",
    "# cap.set(100,100)\n",
    "cap.set(600,100)\n",
    "low = 50\n",
    "high = 150\n",
    "\n",
    "while True:\n",
    "    _, frame =cap.read()\n",
    "    gray_frame = cv2.cvtColor(frame, cv2.COLOR_BGR2GRAY)\n",
    "    # 얼굴 찾기\n",
    "    faces = face_cascade.detectMultiScale(gray_frame, scaleFactor=1.1, minNeighbors=5, minSize=(30, 30))\n",
    "    print(len(faces))\n",
    "\n",
    "    for (x, y, w, h) in faces:\n",
    "        img = cv2.rectangle(frame,(x, y),(x + w, y + h), (255, 0, 0), 7)\n",
    "        roi_gray = gray_frame[y:y+h, x:x+w]\n",
    "        roi_color = img[y:y+h, x:x+w]\n",
    "        eyes = e_cascade.detectMultiScale(roi_gray,minSize = (30,30))\n",
    "        print(f\"눈: {eyes}\")\n",
    "       \n",
    "\n",
    "        for (ex,ey,ew,eh) in eyes:\n",
    "  \n",
    "            cv2.rectangle(roi_color,(ex,ey),(ex+ew,ey+eh),(0,255,0),2)\n",
    "\n",
    "    cv2.imshow(\"Video\", frame)\n",
    "    #cv2.imshow(\"Gray\", gray_frame )\n",
    "    if cv2.waitKey(10) & 0xff ==ord('q'):\n",
    "        break\n",
    "cap.release()\n",
    "cv2.destroyAllWindows()"
   ]
  }
 ],
 "metadata": {
  "kernelspec": {
   "display_name": "yongwon",
   "language": "python",
   "name": "python3"
  },
  "language_info": {
   "codemirror_mode": {
    "name": "ipython",
    "version": 3
   },
   "file_extension": ".py",
   "mimetype": "text/x-python",
   "name": "python",
   "nbconvert_exporter": "python",
   "pygments_lexer": "ipython3",
   "version": "3.10.0"
  }
 },
 "nbformat": 4,
 "nbformat_minor": 2
}
