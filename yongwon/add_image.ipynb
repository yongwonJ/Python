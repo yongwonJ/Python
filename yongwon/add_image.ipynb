{
 "cells": [
  {
   "cell_type": "code",
   "execution_count": 4,
   "metadata": {},
   "outputs": [
    {
     "name": "stdout",
     "output_type": "stream",
     "text": [
      "(225, 225, 3)\n",
      "(183, 276, 3)\n",
      "(183, 276, 3)\n"
     ]
    }
   ],
   "source": [
    "import cv2\n",
    "import numpy as np\n",
    "\n",
    "path1 = 'catt.jpg'\n",
    "path2 = 'dog.jpg'\n",
    "\n",
    "img1 = cv2.imread(path1)\n",
    "img2 = cv2.imread(path2)\n",
    "\n",
    "\n",
    "print(img1.shape)\n",
    "print(img2.shape)\n",
    "\n",
    "img1 = cv2.resize(img1,(276,183)) # (img2.shape[1], img2.shape[0])\n",
    "print(img1.shape)\n",
    "img3 = cv2.add(img1,img2)\n",
    "mask1 = np.ones((img2.shape[0], img2.shape[1], 3), dtype='uint8')*100 # *는 밝기 차이 더 어둡게, 더 밝게,\n",
    "\n",
    "img1_b = cv2.add(img1,mask1)\n",
    "img2_b = cv2.add(img2,mask1)\n",
    "img2_d = cv2.subtract(img2,mask1)\n",
    "#img4 = img1[  : img1.shape[0]//2, : , : ]\n",
    "img1[ : img2.shape[0]//2, : ] =[0,255,0] \n",
    "img2[ :img2.shape[0]//2 , img2.shape[0]//2: ] = [255,0,0]\n",
    "\n",
    "# img1[:,:,0] = 0\n",
    "# img1[:,:,1] = 255\n",
    "# img1[:,:,2] = 0\n",
    "# img1[:,:] = [0,255,0]\n",
    "\n",
    "#cv2.imshow(\"cat\", img1)\n",
    "# cv2.imshow(\"cat_b\", img1_b)\n",
    "# cv2.imshow(\"dog_b\", img2_b)\n",
    "# cv2.imshow(\"dog_d\", img2_d)\n",
    "cv2.imshow(\"dog\", img2)\n",
    "#cv2.imshow(\"ddd\", img4)\n",
    "# cv2.imshow(\"dddd\", img5)\n",
    "# cv2.imshow(\"cog\", img3)\n",
    "\n",
    "\n",
    "cv2.waitKey()\n",
    "cv2.destroyAllWindows()\n",
    "\n"
   ]
  },
  {
   "cell_type": "code",
   "execution_count": null,
   "metadata": {},
   "outputs": [],
   "source": []
  }
 ],
 "metadata": {
  "kernelspec": {
   "display_name": "yongwon",
   "language": "python",
   "name": "python3"
  },
  "language_info": {
   "codemirror_mode": {
    "name": "ipython",
    "version": 3
   },
   "file_extension": ".py",
   "mimetype": "text/x-python",
   "name": "python",
   "nbconvert_exporter": "python",
   "pygments_lexer": "ipython3",
   "version": "3.10.0"
  }
 },
 "nbformat": 4,
 "nbformat_minor": 2
}
