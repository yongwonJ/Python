{
 "cells": [
  {
   "cell_type": "code",
   "execution_count": 43,
   "metadata": {},
   "outputs": [
    {
     "name": "stdout",
     "output_type": "stream",
     "text": [
      "8\n",
      "8\n",
      "4\n",
      "6\n",
      "4\n",
      "81\n",
      "4\n",
      "None\n",
      "[0, 1, 4, 9, 16, 25, 36, 49, 64, 81]\n",
      "[0, 1, 16, 81, 256, 625, 1296, 2401, 4096, 6561]\n"
     ]
    },
    {
     "data": {
      "text/plain": [
       "[0, 4, 8, 12, 16, 20]"
      ]
     },
     "execution_count": 43,
     "metadata": {},
     "output_type": "execute_result"
    }
   ],
   "source": [
    "# a와 b를 받아서 더하는 함수\n",
    "def add_num(a,b):\n",
    "    print(a+b)\n",
    "\n",
    "add_num(3,5)\n",
    "\n",
    "add_num = lambda a,b : a+b\n",
    "print(add_num(3,5))\n",
    "\n",
    "def char(a) :\n",
    "    List = []\n",
    "    for i in a:\n",
    "        List.append(i)\n",
    "    print(len(List))\n",
    "\n",
    "char(\"code\")\n",
    "\n",
    "def word_len(w):\n",
    "    print(len(w))\n",
    "\n",
    "word_len = lambda w: len(w)\n",
    "print(word_len(\"Hellow\"))\n",
    "\n",
    "def squar(a):\n",
    "    print(a*a)\n",
    "\n",
    "squar(2)\n",
    "\n",
    "squar = lambda a : a*a\n",
    "print(squar(9))\n",
    "\n",
    "max_num = lambda x,y : print(x) if x>y else print(y)  \n",
    "print(max_num(3,4))\n",
    "\n",
    "\n",
    "#list(map()) : a모든애들 불러올때\n",
    "#list(filer()) : 리스트에 있는 애들 불러올 때\n",
    "List = [x*x for x in range(10)]\n",
    "print(List)\n",
    "List_1 = list(map(lambda x : x*x, List ))\n",
    "print(List_1)\n",
    "\n",
    "list1 = list(map(lambda x: x, range(11)))\n",
    "list1\n",
    "\n",
    "list2 = [i for i in range(11) if i%2 ==0]\n",
    "list2\n",
    "\n",
    "list3 = list(filter(lambda x: x %2 ==0, range(12)))\n",
    "# list3 = list(map(lambda x: x %2 ==0, range(11)))\n",
    "# 그안의 값이 짝순지 판별하고 bool로 출력\n",
    "list3\n",
    "\n",
    "list4 = list(map(lambda x, y : x+y, list2, list3))\n",
    "list4"
   ]
  }
 ],
 "metadata": {
  "kernelspec": {
   "display_name": "yongwon",
   "language": "python",
   "name": "python3"
  },
  "language_info": {
   "codemirror_mode": {
    "name": "ipython",
    "version": 3
   },
   "file_extension": ".py",
   "mimetype": "text/x-python",
   "name": "python",
   "nbconvert_exporter": "python",
   "pygments_lexer": "ipython3",
   "version": "3.10.0"
  }
 },
 "nbformat": 4,
 "nbformat_minor": 2
}
