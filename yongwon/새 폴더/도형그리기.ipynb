{
 "cells": [
  {
   "cell_type": "code",
   "execution_count": null,
   "metadata": {},
   "outputs": [
    {
     "ename": "TypeError",
     "evalue": "data type 'unit8' not understood",
     "output_type": "error",
     "traceback": [
      "\u001b[1;31m---------------------------------------------------------------------------\u001b[0m",
      "\u001b[1;31mTypeError\u001b[0m                                 Traceback (most recent call last)",
      "Cell \u001b[1;32mIn[2], line 7\u001b[0m\n\u001b[0;32m      5\u001b[0m img1\u001b[38;5;241m=\u001b[39m np\u001b[38;5;241m.\u001b[39mzeros((\u001b[38;5;241m300\u001b[39m, \u001b[38;5;241m300\u001b[39m),dtype \u001b[38;5;241m=\u001b[39m \u001b[38;5;124m'\u001b[39m\u001b[38;5;124muint8\u001b[39m\u001b[38;5;124m'\u001b[39m)\u001b[38;5;66;03m# *는 밝기 차이 더 어둡게, 더 밝게,\u001b[39;00m\n\u001b[0;32m      6\u001b[0m cv2\u001b[38;5;241m.\u001b[39mimshow(\u001b[38;5;124m\"\u001b[39m\u001b[38;5;124mblack\u001b[39m\u001b[38;5;124m\"\u001b[39m, img1)\n\u001b[1;32m----> 7\u001b[0m img2 \u001b[38;5;241m=\u001b[39m \u001b[43mnp\u001b[49m\u001b[38;5;241;43m.\u001b[39;49m\u001b[43mones\u001b[49m\u001b[43m(\u001b[49m\u001b[43m(\u001b[49m\u001b[38;5;241;43m200\u001b[39;49m\u001b[43m,\u001b[49m\u001b[38;5;241;43m200\u001b[39;49m\u001b[43m)\u001b[49m\u001b[43m,\u001b[49m\u001b[43mdtype\u001b[49m\u001b[43m \u001b[49m\u001b[38;5;241;43m=\u001b[39;49m\u001b[43m \u001b[49m\u001b[38;5;124;43m'\u001b[39;49m\u001b[38;5;124;43munit8\u001b[39;49m\u001b[38;5;124;43m'\u001b[39;49m\u001b[43m)\u001b[49m\n\u001b[0;32m      8\u001b[0m cv2\u001b[38;5;241m.\u001b[39mcircle(img1,(img1[\u001b[38;5;241m0\u001b[39m]\u001b[38;5;241m/\u001b[39m\u001b[38;5;241m/\u001b[39m\u001b[38;5;241m2\u001b[39m, img1[\u001b[38;5;241m1\u001b[39m]\u001b[38;5;241m/\u001b[39m\u001b[38;5;241m/\u001b[39m\u001b[38;5;241m2\u001b[39m),\u001b[38;5;241m30\u001b[39m,(\u001b[38;5;241m0\u001b[39m,\u001b[38;5;241m0\u001b[39m,\u001b[38;5;241m255\u001b[39m))\n\u001b[0;32m      9\u001b[0m cv2\u001b[38;5;241m.\u001b[39mrectangle(img2,(x,y),\u001b[38;5;241m30\u001b[39m,(\u001b[38;5;241m0\u001b[39m,\u001b[38;5;241m0\u001b[39m,\u001b[38;5;241m255\u001b[39m))\n",
      "File \u001b[1;32mc:\\Users\\poodu\\Desktop\\python\\yongwon\\lib\\site-packages\\numpy\\_core\\numeric.py:204\u001b[0m, in \u001b[0;36mones\u001b[1;34m(shape, dtype, order, device, like)\u001b[0m\n\u001b[0;32m    199\u001b[0m \u001b[38;5;28;01mif\u001b[39;00m like \u001b[38;5;129;01mis\u001b[39;00m \u001b[38;5;129;01mnot\u001b[39;00m \u001b[38;5;28;01mNone\u001b[39;00m:\n\u001b[0;32m    200\u001b[0m     \u001b[38;5;28;01mreturn\u001b[39;00m _ones_with_like(\n\u001b[0;32m    201\u001b[0m         like, shape, dtype\u001b[38;5;241m=\u001b[39mdtype, order\u001b[38;5;241m=\u001b[39morder, device\u001b[38;5;241m=\u001b[39mdevice\n\u001b[0;32m    202\u001b[0m     )\n\u001b[1;32m--> 204\u001b[0m a \u001b[38;5;241m=\u001b[39m \u001b[43mempty\u001b[49m\u001b[43m(\u001b[49m\u001b[43mshape\u001b[49m\u001b[43m,\u001b[49m\u001b[43m \u001b[49m\u001b[43mdtype\u001b[49m\u001b[43m,\u001b[49m\u001b[43m \u001b[49m\u001b[43morder\u001b[49m\u001b[43m,\u001b[49m\u001b[43m \u001b[49m\u001b[43mdevice\u001b[49m\u001b[38;5;241;43m=\u001b[39;49m\u001b[43mdevice\u001b[49m\u001b[43m)\u001b[49m\n\u001b[0;32m    205\u001b[0m multiarray\u001b[38;5;241m.\u001b[39mcopyto(a, \u001b[38;5;241m1\u001b[39m, casting\u001b[38;5;241m=\u001b[39m\u001b[38;5;124m'\u001b[39m\u001b[38;5;124munsafe\u001b[39m\u001b[38;5;124m'\u001b[39m)\n\u001b[0;32m    206\u001b[0m \u001b[38;5;28;01mreturn\u001b[39;00m a\n",
      "\u001b[1;31mTypeError\u001b[0m: data type 'unit8' not understood"
     ]
    },
    {
     "ename": "",
     "evalue": "",
     "output_type": "error",
     "traceback": [
      "\u001b[1;31m현재 셀 또는 이전 셀에서 코드를 실행하는 동안 Kernel이 충돌했습니다. \n",
      "\u001b[1;31m셀의 코드를 검토하여 가능한 오류 원인을 식별하세요. \n",
      "\u001b[1;31m자세한 내용을 보려면 <a href='https://aka.ms/vscodeJupyterKernelCrash'>여기</a>를 클릭하세요. \n",
      "\u001b[1;31m자세한 내용은 Jupyter <a href='command:jupyter.viewOutput'>로그</a>를 참조하세요."
     ]
    }
   ],
   "source": [
    "import cv2\n",
    "import numpy as np\n",
    "import matplotlib.pyplot as plt\n",
    "\n",
    "img1= np.zeros((300, 300),dtype = 'uint8')# *는 밝기 차이 더 어둡게, 더 밝게,\n",
    "cv2.imshow(\"black\", img1)\n",
    "img2 = np.ones((200,200),dtype = 'unit8')\n",
    "cv2.circle(img1,(img1[0]//2, img1[1]//2),30,(0,0,255))\n",
    "cv2.rectangle(img2,(x,y),30,(0,0,255))\n",
    "\n",
    "cv2.waitKey()\n",
    "cv2.destroyAllWindows()"
   ]
  },
  {
   "cell_type": "code",
   "execution_count": 7,
   "metadata": {},
   "outputs": [],
   "source": [
    "import cv2\n",
    "import numpy as np\n",
    " \n",
    "img1 = np.zeros((300,300), dtype ='uint8')\n",
    "img2 = np.zeros((300,300), dtype ='uint8')\n",
    "cv2.rectangle(img1, (25,25), (275, 275), 255, -1)\n",
    "cv2.circle(img2, (150,150),150, 255, -1)\n",
    "\n",
    "b_and = cv2.bitwise_and(img1,img2)\n",
    "b_or = cv2.bitwise_or(img1,img2)\n",
    "b_xor = cv2.bitwise_xor(img1,img2)\n",
    "b_not = cv2.bitwise_not(img1)\n",
    "b_not = cv2.bitwise_not(img2)\n",
    "\n",
    "\n",
    "cv2.imshow(\"Rectangle\", img1)\n",
    "cv2.imshow(\"Circle\", img2)\n",
    "cv2.imshow(\"and\", b_and)\n",
    "cv2.imshow(\"or\",b_or)\n",
    "cv2.imshow(\"xor\", b_xor)\n",
    "cv2.imshow(\"not\", b_not)\n",
    "cv2.waitKey()\n",
    "cv2.destroyAllWindows()"
   ]
  },
  {
   "cell_type": "code",
   "execution_count": 8,
   "metadata": {},
   "outputs": [],
   "source": [
    "import cv2\n",
    "import numpy as np\n",
    "\n",
    "\n",
    "\n",
    "img1 = np.zeros((300,300), dtype ='uint8')\n",
    "img2 = np.zeros((300,300), dtype ='uint8')\n",
    "cv2.rectangle(img1, (25,25), (275, 275), 255, -1)\n",
    "cv2.circle(img2, (150,150),150, 255, -1)\n",
    "\n",
    "b_and = cv2.bitwise_and(img1, img2)\n",
    "b_or = cv2.bitwise_or(img1, img2)\n",
    "b_xor = cv2.bitwise_xor(img1, img2)\n",
    "b_not_a = cv2.bitwise_not(img1)\n",
    "\n",
    "cv2.imshow(\"Rectangle\", img1)\n",
    "cv2.imshow(\"Circle\", img2)\n",
    "cv2.imshow(\"B_and\", b_and)\n",
    "cv2.imshow(\"B_or\", b_or)\n",
    "cv2.imshow(\"B_xor\", b_xor)\n",
    "cv2.imshow(\"B_notA\", b_not_a)\n",
    "\n",
    "cv2.waitKey()\n",
    "cv2.destroyAllWindows()"
   ]
  },
  {
   "cell_type": "code",
   "execution_count": 9,
   "metadata": {},
   "outputs": [
    {
     "ename": "AttributeError",
     "evalue": "'NoneType' object has no attribute 'copy'",
     "output_type": "error",
     "traceback": [
      "\u001b[1;31m---------------------------------------------------------------------------\u001b[0m",
      "\u001b[1;31mAttributeError\u001b[0m                            Traceback (most recent call last)",
      "Cell \u001b[1;32mIn[9], line 20\u001b[0m\n\u001b[0;32m     16\u001b[0m cv2\u001b[38;5;241m.\u001b[39mcreateTrackbar(\u001b[38;5;124m\"\u001b[39m\u001b[38;5;124mV_HIGH\u001b[39m\u001b[38;5;124m\"\u001b[39m,\u001b[38;5;124m\"\u001b[39m\u001b[38;5;124mStyle\u001b[39m\u001b[38;5;124m\"\u001b[39m,\u001b[38;5;241m200\u001b[39m,\u001b[38;5;241m250\u001b[39m, callBack1)\n\u001b[0;32m     18\u001b[0m \u001b[38;5;28;01mwhile\u001b[39;00m \u001b[38;5;28;01mTrue\u001b[39;00m :\n\u001b[1;32m---> 20\u001b[0m     img \u001b[38;5;241m=\u001b[39m \u001b[43mimage\u001b[49m\u001b[38;5;241;43m.\u001b[39;49m\u001b[43mcopy\u001b[49m()\n\u001b[0;32m     21\u001b[0m     h_l \u001b[38;5;241m=\u001b[39m cv2\u001b[38;5;241m.\u001b[39mgetTrackbarPos(\u001b[38;5;124m\"\u001b[39m\u001b[38;5;124mH_LOW\u001b[39m\u001b[38;5;124m\"\u001b[39m,\u001b[38;5;124m\"\u001b[39m\u001b[38;5;124mStyle\u001b[39m\u001b[38;5;124m\"\u001b[39m)\n\u001b[0;32m     22\u001b[0m     h_h \u001b[38;5;241m=\u001b[39m cv2\u001b[38;5;241m.\u001b[39mgetTrackbarPos(\u001b[38;5;124m\"\u001b[39m\u001b[38;5;124mH_HIGH\u001b[39m\u001b[38;5;124m\"\u001b[39m,\u001b[38;5;124m\"\u001b[39m\u001b[38;5;124mStyle\u001b[39m\u001b[38;5;124m\"\u001b[39m)\n",
      "\u001b[1;31mAttributeError\u001b[0m: 'NoneType' object has no attribute 'copy'"
     ]
    },
    {
     "ename": "",
     "evalue": "",
     "output_type": "error",
     "traceback": [
      "\u001b[1;31m현재 셀 또는 이전 셀에서 코드를 실행하는 동안 Kernel이 충돌했습니다. \n",
      "\u001b[1;31m셀의 코드를 검토하여 가능한 오류 원인을 식별하세요. \n",
      "\u001b[1;31m자세한 내용을 보려면 <a href='https://aka.ms/vscodeJupyterKernelCrash'>여기</a>를 클릭하세요. \n",
      "\u001b[1;31m자세한 내용은 Jupyter <a href='command:jupyter.viewOutput'>로그</a>를 참조하세요."
     ]
    }
   ],
   "source": [
    "import cv2\n",
    "import numpy as np\n",
    "\n",
    "\n",
    "image = cv2.imread('rainbow.svg')\n",
    "def callBack1(value):\n",
    "    pass\n",
    "\n",
    "cv2.namedWindow(\"Style\", cv2.WINDOW_NORMAL)\n",
    "cv2.createTrackbar(\"H_LOW\",\"Style\",0,180, callBack1)\n",
    "cv2.createTrackbar(\"H_HIGH\",\"Style\",100,180, callBack1)\n",
    "\n",
    "cv2.createTrackbar(\"S_LOW\",\"Style\",0,250, callBack1)\n",
    "cv2.createTrackbar(\"S_HIGH\",\"Style\",200,250, callBack1)\n",
    "\n",
    "cv2.createTrackbar(\"V_LOW\",\"Style\",0,250, callBack1)\n",
    "cv2.createTrackbar(\"V_HIGH\",\"Style\",200,250, callBack1)\n",
    "\n",
    "while True :\n",
    "\n",
    "    img = image.copy()\n",
    "    h_l = cv2.getTrackbarPos(\"H_LOW\",\"Style\")\n",
    "    h_h = cv2.getTrackbarPos(\"H_HIGH\",\"Style\")\n",
    "    s_l = cv2.getTrackbarPos(\"S_LOW\",\"Style\")\n",
    "    s_h = cv2.getTrackbarPos(\"S_HIGH\",\"Style\")\n",
    "    v_l = cv2.getTrackbarPos(\"V_LOW\",\"Style\")\n",
    "    v_h = cv2.getTrackbarPos(\"V_HIGH\",\"Style\")\n",
    "\n",
    "\n",
    "\n",
    "    low = np.array([h_l, s_l, v_l])\n",
    "    high = np.array([h_h, s_h, v_h])\n",
    "    print(f\"low : {low}\")\n",
    "    print(f\"high : {high}\")\n",
    "\n",
    "    # HSV 색상 공간으로 이미지 변환\n",
    "    img_hsv = cv2.cvtColor(img, cv2.COLOR_BGR2HSV)\n",
    "     # lower/upper 임계값을 이용하여 마스크 생성\n",
    "    mask = cv2.inRange(img_hsv, low, high)\n",
    "     # 원본 이미지에 마스크 적용\n",
    "    result = cv2.bitwise_and(img, img, mask=mask)\n",
    "\n",
    "    cv2.imshow('Original Image', img)\n",
    "    cv2.imshow('Color Detector', result)\n",
    "\n",
    "\n",
    "    if cv2.waitKey(10)& 0xff == ord('q'):\n",
    "        break\n",
    "\n",
    "cv2.destroyAllWindows()"
   ]
  }
 ],
 "metadata": {
  "kernelspec": {
   "display_name": "yongwon",
   "language": "python",
   "name": "python3"
  },
  "language_info": {
   "codemirror_mode": {
    "name": "ipython",
    "version": 3
   },
   "file_extension": ".py",
   "mimetype": "text/x-python",
   "name": "python",
   "nbconvert_exporter": "python",
   "pygments_lexer": "ipython3",
   "version": "3.10.0"
  }
 },
 "nbformat": 4,
 "nbformat_minor": 2
}
