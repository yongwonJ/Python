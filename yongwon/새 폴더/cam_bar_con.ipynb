{
 "cells": [
  {
   "cell_type": "code",
   "execution_count": 2,
   "metadata": {},
   "outputs": [],
   "source": [
    "import cv2\n",
    "import numpy as np"
   ]
  },
  {
   "cell_type": "code",
   "execution_count": 5,
   "metadata": {},
   "outputs": [],
   "source": [
    "import cv2\n",
    "import numpy as np\n",
    "cap = cv2.VideoCapture(0)#연결된 카메라를 연결 - 카메라 준비\n",
    "cap.set(3, 200) #x\n",
    "cap.set(4, 400) #\n",
    "\n",
    "img_path = 'catt.jpg'\n",
    "img = cv2.imread(img_path)\n",
    "img = cv2.resize(img,(400,400))\n",
    "\n",
    "def callBack1(value):\n",
    "    pass\n",
    "def callBack2(value):\n",
    "    pass\n",
    "\n",
    "\n",
    "cv2.namedWindow(\"Style\", cv2.WINDOW_NORMAL)\n",
    "cv2.createTrackbar(\"max\",\"Style\",10,255, callBack1)\n",
    "cv2.createTrackbar(\"min\",\"Style\",10,255, callBack2)\n",
    "\n",
    "while True :\n",
    "    ret, frame = cap.read()\n",
    "    gray_frame = cv2.cvtColor(frame, cv2.COLOR_BGR2GRAY)\n",
    "    Max = cv2.getTrackbarPos(\"max\",\"Style\")\n",
    "    Min = cv2.getTrackbarPos(\"min\",\"Style\")\n",
    "\n",
    "    canny_frame = cv2.Canny(gray_frame, Min, Max)\n",
    "    \n",
    "    cv2.imshow(\"Blur\",canny_frame)\n",
    "\n",
    "    if cv2.waitKey(10)& 0xff == ord('q'):\n",
    "        break\n",
    "\n",
    "cap.release()\n",
    "cv2.destroyAllWindows()"
   ]
  }
 ],
 "metadata": {
  "kernelspec": {
   "display_name": "yongwon",
   "language": "python",
   "name": "python3"
  },
  "language_info": {
   "codemirror_mode": {
    "name": "ipython",
    "version": 3
   },
   "file_extension": ".py",
   "mimetype": "text/x-python",
   "name": "python",
   "nbconvert_exporter": "python",
   "pygments_lexer": "ipython3",
   "version": "3.10.0"
  }
 },
 "nbformat": 4,
 "nbformat_minor": 2
}
