{
 "cells": [
  {
   "cell_type": "code",
   "execution_count": null,
   "metadata": {},
   "outputs": [],
   "source": [
    "import cv2\n",
    "import numpy as np\n",
    "def nothing(x):\n",
    "    pass\n",
    "# 카메라 로드\n",
    "cap = cv2.VideoCapture(0)\n",
    "cv2.namedWindow('Color Detector',cv2.WINDOW_NORMAL)\n",
    "# Trackbar를 생성하여 'Lower'와 'Upper' 범위 설정\n",
    "cv2.createTrackbar('Low H', 'Color Detector', 0, 179, nothing)\n",
    "cv2.createTrackbar('High H', 'Color Detector', 0, 179, nothing)\n",
    "cv2.createTrackbar('Low S', 'Color Detector', 0, 250, nothing)\n",
    "cv2.createTrackbar('High S', 'Color Detector', 0, 250, nothing)\n",
    "cv2.createTrackbar('Low V', 'Color Detector', 0, 250, nothing)\n",
    "cv2.createTrackbar('High V', 'Color Detector', 0, 250, nothing)\n",
    "while True:\n",
    "    # 복사본 이미지 생성\n",
    "    _,frame =cap.read()\n",
    "    # 트랙바에서 현재 값 얻기\n",
    "    low_h = cv2.getTrackbarPos('Low H', 'Color Detector')\n",
    "    high_h = cv2.getTrackbarPos('High H', 'Color Detector')\n",
    "    low_s = cv2.getTrackbarPos('Low S', 'Color Detector')\n",
    "    high_s = cv2.getTrackbarPos('High S', 'Color Detector')\n",
    "    low_v = cv2.getTrackbarPos('Low V', 'Color Detector')\n",
    "    high_v = cv2.getTrackbarPos('High V', 'Color Detector')\n",
    "    # HSV 색상 공간으로 이미지 변환\n",
    "    frame_hsv = cv2.cvtColor(frame, cv2.COLOR_BGR2HSV)\n",
    "    # HSV에서의 lower/upper 임계값\n",
    "    lower_color = np.array([low_h, low_s, low_v])\n",
    "    upper_color = np.array([high_h, high_s, high_v])\n",
    "    # lower/upper 임계값을 이용하여 마스크 생성\n",
    "    mask = cv2.inRange(frame_hsv, lower_color, upper_color)\n",
    "    \n",
    "    # 원본 이미지에 마스크 적용\n",
    "    result = cv2.bitwise_and(frame_hsv, frame_hsv, mask=mask)\n",
    "    # 결과 표시\n",
    "    #cv2.imshow('Original Image', frame)\n",
    "    cv2.imshow('Color Detector', result)\n",
    "    # 키 입력 대기 (ESC를 누르면 종료)\n",
    "    if cv2.waitKey(10) & 0xff== ord('q'):\n",
    "        break\n",
    "cv2.destroyAllWindows()\n",
    "\n",
    "np.save(\"file 이름 \",대상)"
   ]
  }
 ],
 "metadata": {
  "language_info": {
   "name": "python"
  }
 },
 "nbformat": 4,
 "nbformat_minor": 2
}
