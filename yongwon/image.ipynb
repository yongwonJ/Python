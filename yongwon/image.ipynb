{
 "cells": [
  {
   "cell_type": "code",
   "execution_count": 19,
   "metadata": {},
   "outputs": [
    {
     "name": "stdout",
     "output_type": "stream",
     "text": [
      "(225, 225, 3)\n"
     ]
    }
   ],
   "source": [
    "import cv2\n",
    "import numpy as np\n",
    "\n",
    "path  = 'catt.jpg'\n",
    "image = cv2.imread(path)\n",
    "\n",
    "\n",
    "print(image.shape) #(225, 225, 3) (세로, 가로, 색)\n",
    "y = image.shape[0]//2\n",
    "x = image.shape[1]//2\n",
    "cv2.circle(image,(x,y),30,(0,0,255))\n",
    "\n",
    "\n",
    "\n",
    "low = 50\n",
    "high = 150\n",
    "\n",
    "canny_frame = cv2.Canny(image, low, high)\n",
    "gray_frame = cv2.cvtColor(image, cv2.COLOR_BGR2GRAY)\n",
    "blur_frame = cv2.GaussianBlur(image, (3,3), 0)\n",
    "\n",
    "\n",
    "cv2.imshow(\"Cat\", image)\n",
    "cv2.imshow(\"canny\", canny_frame)\n",
    "cv2.imshow(\"gray\", gray_frame)\n",
    "cv2.imshow(\"blur\", blur_frame)\n",
    "\n",
    "\n",
    "cv2.waitKey()\n",
    "cv2.destroyAllWindows()"
   ]
  },
  {
   "cell_type": "code",
   "execution_count": null,
   "metadata": {},
   "outputs": [],
   "source": []
  }
 ],
 "metadata": {
  "kernelspec": {
   "display_name": "yongwon",
   "language": "python",
   "name": "python3"
  },
  "language_info": {
   "codemirror_mode": {
    "name": "ipython",
    "version": 3
   },
   "file_extension": ".py",
   "mimetype": "text/x-python",
   "name": "python",
   "nbconvert_exporter": "python",
   "pygments_lexer": "ipython3",
   "version": "3.10.0"
  }
 },
 "nbformat": 4,
 "nbformat_minor": 2
}
