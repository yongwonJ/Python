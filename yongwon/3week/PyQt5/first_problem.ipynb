{
 "cells": [
  {
   "cell_type": "code",
   "execution_count": null,
   "metadata": {},
   "outputs": [
    {
     "ename": "",
     "evalue": "",
     "output_type": "error",
     "traceback": [
      "\u001b[1;31m현재 셀 또는 이전 셀에서 코드를 실행하는 동안 Kernel이 충돌했습니다. \n",
      "\u001b[1;31m셀의 코드를 검토하여 가능한 오류 원인을 식별하세요. \n",
      "\u001b[1;31m자세한 내용을 보려면 <a href='https://aka.ms/vscodeJupyterKernelCrash'>여기</a>를 클릭하세요. \n",
      "\u001b[1;31m자세한 내용은 Jupyter <a href='command:jupyter.viewOutput'>로그</a>를 참조하세요."
     ]
    }
   ],
   "source": [
    "from PyQt5.QtWidgets import (#########,\n",
    "                              ###########, \n",
    "                              QWidget, #######,QHBoxLayout, QLabel, ######)\n",
    "import sys\n",
    "from PyQt5.QtCore import Qt\n",
    "\n",
    "class MainWindow(QMainWindow):\n",
    "    def __init__(self):\n",
    "        super().__init__() \n",
    "        ######  # 컨테이너 생성\n",
    "        self.setCentralWidget(######)\n",
    "        \n",
    "        #####    #라벨 생성\n",
    "        layout = QVBoxLayout()\n",
    "        container.setLayout(layout)\n",
    "        self.sliders = []\n",
    "        \n",
    "        for i in range(3):\n",
    "            self.slider = QSlider()\n",
    "            ###########    # 슬라이더의 범위를 0~180 지정\n",
    "            self.slider.setValue(90)   \n",
    "            self.slider.setOrientation(Qt.Horizontal)\n",
    "            #####          #슬라이더를 움직였을 때 값을 전달하기 위한 명령어를 입력하세요\n",
    "            layout.addWidget(self.slider)\n",
    "            self.sliders.append(self.slider)\n",
    "        layout.addWidget(self.label)\n",
    "        self.show()\n",
    "    \n",
    "    def update_label(self): \n",
    "        slider_values = []\n",
    "        slider_values1 = [slider.value() for slider in self.sliders]\n",
    "   \n",
    "        #####(f\"{slider_values[0], slider_values[1], slider_values[2]}\") \n",
    "\t\t\t\t라벨값 실시간으로 변하도록하는 명령어를 입력하세요.\n",
    "\t\t\t\t\n",
    "app = QApplication(sys.argv)\n",
    "win = MainWindow()\n",
    "app.exec()"
   ]
  }
 ],
 "metadata": {
  "kernelspec": {
   "display_name": "yongwon",
   "language": "python",
   "name": "python3"
  },
  "language_info": {
   "codemirror_mode": {
    "name": "ipython",
    "version": 3
   },
   "file_extension": ".py",
   "mimetype": "text/x-python",
   "name": "python",
   "nbconvert_exporter": "python",
   "pygments_lexer": "ipython3",
   "version": "3.10.0"
  }
 },
 "nbformat": 4,
 "nbformat_minor": 2
}
