{
 "cells": [
  {
   "cell_type": "code",
   "execution_count": 5,
   "metadata": {},
   "outputs": [],
   "source": [
    "import cv2\n",
    "import numpy as np\n",
    "\n",
    "img = np.zeros((300,300), dtype='uint8')\n",
    "img = cv2.rectangle(img, (25,25), (275,275), 255, -1)\n",
    "\n",
    "img = np.zeros((300,300),dtype = 'uint8')\n",
    "img = cv2.rectangle(img, (25,25), (275,275),255,-1)\n",
    "\n",
    "img_not = cv2.bitwise_not(img)\n",
    "img_not = cv2.bitwise_not(img)\n",
    "\n",
    "cv2.imshow('Rectangle', img)\n",
    "cv2.imshow('img1_not', img_not)\n",
    "\n",
    "cv2.waitKey()\n",
    "cv2.destroyAllWindows()\n"
   ]
  },
  {
   "cell_type": "code",
   "execution_count": 4,
   "metadata": {},
   "outputs": [
    {
     "ename": "AttributeError",
     "evalue": "'NoneType' object has no attribute 'shape'",
     "output_type": "error",
     "traceback": [
      "\u001b[1;31m---------------------------------------------------------------------------\u001b[0m",
      "\u001b[1;31mAttributeError\u001b[0m                            Traceback (most recent call last)",
      "Cell \u001b[1;32mIn[4], line 8\u001b[0m\n\u001b[0;32m      4\u001b[0m path1 \u001b[38;5;241m=\u001b[39m \u001b[38;5;124m'\u001b[39m\u001b[38;5;124m3week\u001b[39m\u001b[38;5;124m\\\u001b[39m\u001b[38;5;124mPyQt5\u001b[39m\u001b[38;5;124m\\\u001b[39m\u001b[38;5;124mcatt.jpg\u001b[39m\u001b[38;5;124m'\u001b[39m\n\u001b[0;32m      6\u001b[0m img1 \u001b[38;5;241m=\u001b[39m cv2\u001b[38;5;241m.\u001b[39mimread(path1)\n\u001b[1;32m----> 8\u001b[0m \u001b[38;5;28mprint\u001b[39m(\u001b[43mimg1\u001b[49m\u001b[38;5;241;43m.\u001b[39;49m\u001b[43mshape\u001b[49m)\n\u001b[0;32m     10\u001b[0m \u001b[38;5;66;03m# roi\u001b[39;00m\n\u001b[0;32m     11\u001b[0m img_roi \u001b[38;5;241m=\u001b[39m img1[:(img1\u001b[38;5;241m.\u001b[39mshape[\u001b[38;5;241m0\u001b[39m]\u001b[38;5;241m/\u001b[39m\u001b[38;5;241m/\u001b[39m\u001b[38;5;241m2\u001b[39m),:,:]\n",
      "\u001b[1;31mAttributeError\u001b[0m: 'NoneType' object has no attribute 'shape'"
     ]
    }
   ],
   "source": [
    "import cv2\n",
    "import numpy as np\n",
    "\n",
    "path1 = '3week\\PyQt5\\catt.jpg'\n",
    "\n",
    "img1 = cv2.imread(path1)\n",
    "\n",
    "print(img1.shape)\n",
    "\n",
    "# roi\n",
    "img_roi = img1[:(img1.shape[0]//2),:,:]\n",
    "img4 = img1.copy()\n",
    "\n",
    "# 남은 부분에 초록색으로 색칠하기\n",
    "img4[(img4.shape[0]//2):,:,:] = 0\n",
    "img4[(img4.shape[0]//2):,:,1] = 255\n",
    "img4[(img4.shape[0]//2):,:,2] = 0\n",
    "\n",
    "# 위 모든 것을 한줄로 만드는 동일한 코드\n",
    "img4[(img4.shape[0]//2):,:] = [0,255,0]\n",
    "\n",
    "cv2.imshow('Original', img1)\n",
    "cv2.imshow('Slice', img_roi)\n",
    "cv2.imshow('Slice_colored', img4)\n",
    "\n",
    "cv2.waitKey()\n",
    "\n",
    "cv2.destroyAllWindows()"
   ]
  }
 ],
 "metadata": {
  "kernelspec": {
   "display_name": "yongwon",
   "language": "python",
   "name": "python3"
  },
  "language_info": {
   "codemirror_mode": {
    "name": "ipython",
    "version": 3
   },
   "file_extension": ".py",
   "mimetype": "text/x-python",
   "name": "python",
   "nbconvert_exporter": "python",
   "pygments_lexer": "ipython3",
   "version": "3.10.0"
  }
 },
 "nbformat": 4,
 "nbformat_minor": 2
}
