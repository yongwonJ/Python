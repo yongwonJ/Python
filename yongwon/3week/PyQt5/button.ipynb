{
 "cells": [
  {
   "cell_type": "code",
   "execution_count": null,
   "metadata": {},
   "outputs": [
    {
     "ename": "",
     "evalue": "",
     "output_type": "error",
     "traceback": [
      "\u001b[1;31m현재 셀 또는 이전 셀에서 코드를 실행하는 동안 Kernel이 충돌했습니다. \n",
      "\u001b[1;31m셀의 코드를 검토하여 가능한 오류 원인을 식별하세요. \n",
      "\u001b[1;31m자세한 내용을 보려면 <a href='https://aka.ms/vscodeJupyterKernelCrash'>여기</a>를 클릭하세요. \n",
      "\u001b[1;31m자세한 내용은 Jupyter <a href='command:jupyter.viewOutput'>로그</a>를 참조하세요."
     ]
    }
   ],
   "source": [
    "import sys\n",
    "from PyQt5.QtWidgets import QApplication, QMainWindow, QPushButton\n",
    "# QApplication 앱을 만들고 실행시키는 역할\n",
    "\n",
    "class MainWindow(QMainWindow):\n",
    "    def __init__(self):\n",
    "        super().__init__()\n",
    "        self.button_state = False\n",
    "\n",
    "        self.show()\n",
    "        button = QPushButton(\"누름\") # 버튼 생성\n",
    "        button.clicked.connect(self.button_is_clicked)# 함수를 넣어\n",
    "        self.setCentralWidget(button)\n",
    "\n",
    "    def button_is_clicked(self):\n",
    "        self.button_state = not self.button_state\n",
    "\n",
    "        if self.button_state :\n",
    "            self.setStyleSheet(\"background-color : lightblue\")\n",
    "            print(\"버튼이 눌렸습니다.\")\n",
    "        else:\n",
    "            self.setStyleSheet(\"background-color : yellow\")\n",
    "\n",
    "\n",
    "app = QApplication(sys.argv)# 어플리케이션을 계속 돌린다.\n",
    "win = MainWindow()\n",
    "\n",
    "app.exec()"
   ]
  }
 ],
 "metadata": {
  "kernelspec": {
   "display_name": "yongwon",
   "language": "python",
   "name": "python3"
  },
  "language_info": {
   "codemirror_mode": {
    "name": "ipython",
    "version": 3
   },
   "file_extension": ".py",
   "mimetype": "text/x-python",
   "name": "python",
   "nbconvert_exporter": "python",
   "pygments_lexer": "ipython3",
   "version": "3.10.0"
  }
 },
 "nbformat": 4,
 "nbformat_minor": 2
}
