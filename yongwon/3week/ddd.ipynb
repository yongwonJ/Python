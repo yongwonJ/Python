{
 "cells": [
  {
   "cell_type": "code",
   "execution_count": 15,
   "metadata": {},
   "outputs": [
    {
     "name": "stdout",
     "output_type": "stream",
     "text": [
      "kittens\n",
      "whiskers\n",
      "Raindrops\n",
      "Kara\n",
      "roses\n",
      "kittens\n",
      "whiskers\n",
      "Raindrops\n",
      "Kara\n",
      "roses\n",
      "dd['kittens', 'whiskers', 'Raindrops', 'Kara', 'roses']\n",
      "kittens\n",
      "whiskers\n",
      "Raindrops\n",
      "Kara\n",
      "roses\n"
     ]
    }
   ],
   "source": [
    "\n"
   ]
  },
  {
   "cell_type": "code",
   "execution_count": 33,
   "metadata": {},
   "outputs": [
    {
     "data": {
      "text/plain": [
       "87.8"
      ]
     },
     "execution_count": 33,
     "metadata": {},
     "output_type": "execute_result"
    }
   ],
   "source": [
    "scores = {\n",
    "\n",
    "'김철수': 85,\n",
    "\n",
    "'이영희': 92,\n",
    "\n",
    "'박민수': 78,\n",
    "\n",
    "'정수진': 96,\n",
    "\n",
    "'홍길동': 88\n",
    "\n",
    "}\n",
    "\n",
    "a = sum(scores.values()) / len(scores)\n",
    "a"
   ]
  }
 ],
 "metadata": {
  "kernelspec": {
   "display_name": "yongwon",
   "language": "python",
   "name": "python3"
  },
  "language_info": {
   "codemirror_mode": {
    "name": "ipython",
    "version": 3
   },
   "file_extension": ".py",
   "mimetype": "text/x-python",
   "name": "python",
   "nbconvert_exporter": "python",
   "pygments_lexer": "ipython3",
   "version": "3.10.0"
  }
 },
 "nbformat": 4,
 "nbformat_minor": 2
}
