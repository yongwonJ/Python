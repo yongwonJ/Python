{
 "cells": [
  {
   "cell_type": "code",
   "execution_count": 45,
   "metadata": {},
   "outputs": [],
   "source": [
    "class MyClass:\n",
    "\t\t#메소드(함수)\n",
    "    def __init__(self, name, id_num, sex):\n",
    "        self.name = name\n",
    "        self.id_num = id_num\n",
    "        self.sex = sex\n",
    "\n",
    "    def print_name(self, nick_name): #self 뒤에 오는 변수를 받아오기 위해 쓴다 정도로 이해하자 \n",
    "        print(f\"우리반 {self.id_num}번째 학생은 {self.name}의 별명은 {nick_name}입니다!\")\n",
    "\n",
    "    def print_sex(self):\n",
    "        print(f\"우리반 {self.name}은 {self.sex}입니다. \")\n",
    "        \n",
    "    def print_grade(self, grade):\n",
    "        if grade == \" \": #입력 인자가 없으면 졸업했다고 추가하려면??\n",
    "                print(f\"졸업했습니다...\")     \n",
    "        else :            \n",
    "\t\t        print(f\"{self.name}는 대학교 {grade}학년 입니다.\")\n",
    "\n",
    "stu1 = MyClass(\"조권희\", 1,\"남자\")"
   ]
  },
  {
   "cell_type": "code",
   "execution_count": 34,
   "metadata": {},
   "outputs": [
    {
     "name": "stdout",
     "output_type": "stream",
     "text": [
      "조권희\n",
      "1\n"
     ]
    }
   ],
   "source": [
    "\n",
    "print(stu1.name)\n",
    "print(stu1.id_num)\n",
    "\n"
   ]
  },
  {
   "cell_type": "code",
   "execution_count": 51,
   "metadata": {},
   "outputs": [
    {
     "name": "stdout",
     "output_type": "stream",
     "text": [
      "우리반 1번째 학생은 조권희의 별명은 초코니입니다!\n",
      "<bound method MyClass.print_sex of <__main__.MyClass object at 0x000002401134B580>>\n",
      "졸업했습니다...\n"
     ]
    }
   ],
   "source": [
    "stu1.print_name(\"초코니\")\n",
    "print(stu1.print_sex)\n",
    "stu1.print_grade(\"\")"
   ]
  },
  {
   "cell_type": "code",
   "execution_count": 73,
   "metadata": {},
   "outputs": [
    {
     "data": {
      "text/plain": [
       "0"
      ]
     },
     "execution_count": 73,
     "metadata": {},
     "output_type": "execute_result"
    }
   ],
   "source": [
    "class Calculator1 : \n",
    "    def __init__(self): #\n",
    "        self.result = 0\n",
    "    def add(self, x,y) : # self 안쓰고 그냥 함수로만 쓰면 왜 안되지?\n",
    "        self.result = x+y\n",
    "        print(self.result)\n",
    "    def sub(self, x,y):\n",
    "        self.result = x-y\n",
    "        print(self.result)\n",
    "    # def add2(x,y) : # self 안쓰고 그냥 함수로만 쓰면 왜 안되지?\n",
    "    #     result = x+y\n",
    "    #     print(result) 왜 안되는건가?\n",
    "    def mul(self, x, y):\n",
    "        self.result = x*y\n",
    "        print(self.result)\n",
    "\n",
    "    def div(self, x, y):\n",
    "        self.result = x//y\n",
    "        print(self.result)       \n",
    "\n",
    "class Calculator2 : \n",
    "    def __init__(self): #\n",
    "        pass\n",
    "    def add(self, x,y) : # self 안쓰고 그냥 함수로만 쓰면 왜 안되지?\n",
    "        return(x+y)\n",
    "    def sub(self, x,y):\n",
    "        return(x-y)\n",
    "        print(self.result)\n",
    "    # def add2(x,y) : # self 안쓰고 그냥 함수로만 쓰면 왜 안되지?\n",
    "    #     result = x+y\n",
    "    #     print(result) 왜 안되는건가? self가 있어야 클라스 내부 함수에 접근(\".\")할 수 있다. \n",
    "    def mul(self, x, y):\n",
    "        return(x*y)\n",
    "\n",
    "    def div(self, x, y):\n",
    "        return(x//y)  \n",
    "\n",
    "\n",
    "cal1 = Calculator1()\n",
    "cal2 = Calculator2()\n",
    "cal1.result"
   ]
  },
  {
   "cell_type": "code",
   "execution_count": 74,
   "metadata": {},
   "outputs": [
    {
     "name": "stdout",
     "output_type": "stream",
     "text": [
      "8\n",
      "2\n"
     ]
    },
    {
     "ename": "AttributeError",
     "evalue": "'Calculator1' object has no attribute 'add2'",
     "output_type": "error",
     "traceback": [
      "\u001b[1;31m---------------------------------------------------------------------------\u001b[0m",
      "\u001b[1;31mAttributeError\u001b[0m                            Traceback (most recent call last)",
      "Cell \u001b[1;32mIn[74], line 3\u001b[0m\n\u001b[0;32m      1\u001b[0m cal1\u001b[38;5;241m.\u001b[39madd(\u001b[38;5;241m3\u001b[39m,\u001b[38;5;241m5\u001b[39m)\n\u001b[0;32m      2\u001b[0m cal1\u001b[38;5;241m.\u001b[39msub(\u001b[38;5;241m5\u001b[39m,\u001b[38;5;241m3\u001b[39m)\n\u001b[1;32m----> 3\u001b[0m \u001b[43mcal1\u001b[49m\u001b[38;5;241;43m.\u001b[39;49m\u001b[43madd2\u001b[49m(\u001b[38;5;241m5\u001b[39m,\u001b[38;5;241m3\u001b[39m)\n",
      "\u001b[1;31mAttributeError\u001b[0m: 'Calculator1' object has no attribute 'add2'"
     ]
    }
   ],
   "source": [
    "cal1.add(3,5)\n",
    "cal1.sub(5,3)\n",
    "cal1.add2(5,3)\n"
   ]
  },
  {
   "cell_type": "code",
   "execution_count": 78,
   "metadata": {},
   "outputs": [
    {
     "name": "stdout",
     "output_type": "stream",
     "text": [
      "12\n"
     ]
    },
    {
     "data": {
      "text/plain": [
       "12"
      ]
     },
     "execution_count": 78,
     "metadata": {},
     "output_type": "execute_result"
    }
   ],
   "source": [
    "cal1.mul(3,4)\n",
    "cal2.mul(3,4)"
   ]
  },
  {
   "cell_type": "code",
   "execution_count": 94,
   "metadata": {},
   "outputs": [],
   "source": [
    "class Robot() : \n",
    "    def __init__(self, name, type) :\n",
    "        self.name = name\n",
    "        self.type = type \n",
    "        # 주행거리 누적되야하므로, Attribute해야함\n",
    "        self.odometry = 0\n",
    "    def get_description(self) : \n",
    "        print(f'{self.name}: {self.type}')\n",
    "\n",
    "    #메소드(함수) 안에서 속성을 쓰는 것\n",
    "    def increase(self, dis) : \n",
    "        self.odometry +=dis\n",
    "        print(f'주행 거리 : {self.odometry}km')\n",
    "        \n",
    "    \n",
    "\n"
   ]
  },
  {
   "cell_type": "code",
   "execution_count": 100,
   "metadata": {},
   "outputs": [
    {
     "name": "stdout",
     "output_type": "stream",
     "text": [
      "Roobi: agv\n",
      "주행 거리 : 10km\n",
      "주행 거리 : 15km\n"
     ]
    },
    {
     "data": {
      "text/plain": [
       "15"
      ]
     },
     "execution_count": 100,
     "metadata": {},
     "output_type": "execute_result"
    }
   ],
   "source": [
    "my_robot = Robot(\"Roobi\",\"agv\")\n",
    "my_robot.get_description()\n",
    "#Robbi : agv\n",
    "my_robot.increase(10)\n",
    "#주행 거리 : 10km\n",
    "my_robot.increase(5)\n",
    "my_robot.odometry"
   ]
  },
  {
   "cell_type": "code",
   "execution_count": 122,
   "metadata": {},
   "outputs": [],
   "source": [
    "class Father:\n",
    "    def __init__(self, surname, given_name) :\n",
    "        self.surname = surname\n",
    "        self.given_name = given_name\n",
    "\n",
    "    def get_marry(self, status):\n",
    "        if status :\n",
    "            print(\"현재 유부남\")\n",
    "        else :\n",
    "            print(\"비혼\")"
   ]
  },
  {
   "cell_type": "code",
   "execution_count": 128,
   "metadata": {},
   "outputs": [],
   "source": [
    "class Son(Father) :\n",
    "    def __init__(self, surname, given_name) :\n",
    "        super().__init__(surname, given_name) \n",
    "        #overWrite 해야할 때, 안할떄 구분은 어떻게 되는거지?\n",
    "        #왜 self가 안들어가는가\n",
    "        #super().__init__ = Father => Father(surname, given_name)\n",
    "class Son1(Father) :\n",
    "    def __init__(self, surname, given_name, mother ) :\n",
    "        super().__init__(surname, given_name)         \n",
    "        self.mother = mother #Father과 다르게 파라미터 하나 추가됨 - 오버라이팅\n",
    "        #아빠꺼 메소드를 상속받아 쓸 수 있다."
   ]
  },
  {
   "cell_type": "code",
   "execution_count": 124,
   "metadata": {},
   "outputs": [
    {
     "name": "stdout",
     "output_type": "stream",
     "text": [
      "현재 유부남\n"
     ]
    }
   ],
   "source": [
    "father = Father(\"심\", \"승환\")\n",
    "father.surname\n",
    "father.get_marry(True)"
   ]
  },
  {
   "cell_type": "code",
   "execution_count": 133,
   "metadata": {},
   "outputs": [
    {
     "name": "stdout",
     "output_type": "stream",
     "text": [
      "비혼\n"
     ]
    }
   ],
   "source": [
    "son = Son(\"심\", \"슨\")\n",
    "son1 = Son1(\"심\", \"슨\", \"수지\")\n",
    "son.surname\n",
    "son.given_name\n",
    "son1.mother\n",
    "son.get_marry(False)"
   ]
  },
  {
   "cell_type": "code",
   "execution_count": 136,
   "metadata": {},
   "outputs": [],
   "source": [
    "class Employee:\n",
    "    def __init__(self, name ,age, salary) :\n",
    "        self.name = name\n",
    "        self.age = age\n",
    "        self.salary = salary\n",
    "      \n",
    "        \n",
    "    def increase_pay(self, factor):\n",
    "        self.salary *= factor\n",
    "        return(self.salary)"
   ]
  },
  {
   "cell_type": "code",
   "execution_count": 148,
   "metadata": {},
   "outputs": [],
   "source": [
    "class Developer(Employee) :\n",
    "    def __init__(self, name ,age, salary,skills) :\n",
    "        super().__init__(name ,age, salary)   # 여기는Employ 쪽이니까 skills \n",
    "        self.skills = skills    \n"
   ]
  },
  {
   "cell_type": "code",
   "execution_count": 149,
   "metadata": {},
   "outputs": [
    {
     "name": "stdout",
     "output_type": "stream",
     "text": [
      "6000.0\n",
      "10400.0\n"
     ]
    }
   ],
   "source": [
    "emp1 = Employee(\"김민우\", 24, 5000)\n",
    "emp2= Employee(\"김무현\", 26, 8000)\n",
    "\n",
    "print(emp1.increase_pay(1.2))\n",
    "print(emp2.increase_pay(1.3))\n"
   ]
  },
  {
   "cell_type": "code",
   "execution_count": 154,
   "metadata": {},
   "outputs": [
    {
     "data": {
      "text/plain": [
       "'python'"
      ]
     },
     "execution_count": 154,
     "metadata": {},
     "output_type": "execute_result"
    }
   ],
   "source": [
    "dev1 = Developer(\"장용원\",30,10000,[\"기구설계\", \"python\"])\n",
    "dev1.increase_pay(1.5)\n",
    "dev1.skills[1]"
   ]
  }
 ],
 "metadata": {
  "kernelspec": {
   "display_name": "yongwon",
   "language": "python",
   "name": "python3"
  },
  "language_info": {
   "codemirror_mode": {
    "name": "ipython",
    "version": 3
   },
   "file_extension": ".py",
   "mimetype": "text/x-python",
   "name": "python",
   "nbconvert_exporter": "python",
   "pygments_lexer": "ipython3",
   "version": "3.10.0"
  }
 },
 "nbformat": 4,
 "nbformat_minor": 2
}
