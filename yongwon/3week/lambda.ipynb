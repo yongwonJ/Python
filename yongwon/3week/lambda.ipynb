{
 "cells": [
  {
   "cell_type": "code",
   "execution_count": 17,
   "metadata": {},
   "outputs": [
    {
     "data": {
      "text/plain": [
       "['fruit_apple', 'fruit_banana', 'fruit_kiwi', 'fruit_orange', 'fruit_grape']"
      ]
     },
     "execution_count": 17,
     "metadata": {},
     "output_type": "execute_result"
    }
   ],
   "source": [
    "#1\n",
    "original_list = [1, 3, 5, 7, 9]\n",
    "\n",
    "\n",
    "list1 = list(map(lambda x: x+2, original_list))\n",
    "list1\n",
    "\n",
    "#2\n",
    "# numbers = [1, 2, 3, 4, 5, 6, 7, 8, 9]\n",
    "# list2 = list(filter(lambda x : x%2 != 0))\n",
    "# list2\n",
    "\n",
    "#3\n",
    "words = [\"apple\", \"banana\", \"kiwi\", \"orange\", \"grape\"]\n",
    "\n",
    "list3 = list(filter(lambda x : len(x)>5 ,words))\n",
    "list3\n",
    "#['banana', 'orange']\n",
    "\n",
    "#4\n",
    "\n",
    "#7\n",
    "string_list = [\"apple\", \"banana\", \"kiwi\", \"orange\", \"grape\"]\n",
    "prefix = \"fruit_\"\n",
    "\n",
    "list7 = list(map(lambda x : prefix+x, string_list))\n",
    "list7"
   ]
  },
  {
   "cell_type": "code",
   "execution_count": 25,
   "metadata": {},
   "outputs": [
    {
     "data": {
      "text/plain": [
       "{'apple': 'red'}"
      ]
     },
     "execution_count": 25,
     "metadata": {},
     "output_type": "execute_result"
    }
   ],
   "source": [
    "string_dict = {\"apple\": \"red\", \"banana\": \"yellow\", \"kiwi\": \"brown\", \"orange\": \"orange\", \"grape\": \"purple\"}\n",
    "\n",
    "search_key = \"apple\"\n",
    "search_value = \"brown\"\n",
    "\n",
    "# key나 value 둘 중 아무거나 접근해도 같이 출력\n",
    "#item[0] = key, item[1] = value\n",
    "a = dict(filter(lambda item : item[0] == search_key , string_dict.items()))\n",
    "b = dict(filter(lambda item : item[1] == search_value , string_dict.items()))\n",
    "\n",
    "a\n",
    "\n",
    "#{'kiwi': 'brown'}"
   ]
  },
  {
   "cell_type": "code",
   "execution_count": 33,
   "metadata": {},
   "outputs": [
    {
     "data": {
      "text/plain": [
       "{'apple': 'RED',\n",
       " 'banana': 'YELLOW',\n",
       " 'kiwi': 'BROWN',\n",
       " 'orange': 'ORANGE',\n",
       " 'grape': 'PURPLE'}"
      ]
     },
     "execution_count": 33,
     "metadata": {},
     "output_type": "execute_result"
    }
   ],
   "source": [
    "string_dict = {\"apple\": \"red\", \"banana\": \"yellow\", \"kiwi\": \"brown\", \"orange\": \"orange\", \"grape\": \"purple\"}\n",
    "\n",
    "a = dict(map(lambda item : (item[0], item[1].upper()), string_dict.items()))\n",
    "a\n"
   ]
  },
  {
   "cell_type": "code",
   "execution_count": 35,
   "metadata": {},
   "outputs": [
    {
     "data": {
      "text/plain": [
       "{'red': 'apple',\n",
       " 'yellow': 'banana',\n",
       " 'brown': 'kiwi',\n",
       " 'orange': 'orange',\n",
       " 'purple': 'grape'}"
      ]
     },
     "execution_count": 35,
     "metadata": {},
     "output_type": "execute_result"
    }
   ],
   "source": [
    "string_dict = {\"apple\": \"red\", \"banana\": \"yellow\", \"kiwi\": \"brown\", \"orange\": \"orange\", \"grape\": \"purple\"}\n",
    "\n",
    "dict(map(lambda item : (item[1], item[0]), string_dict.items()))\n"
   ]
  },
  {
   "cell_type": "code",
   "execution_count": 41,
   "metadata": {},
   "outputs": [
    {
     "data": {
      "text/plain": [
       "['orange', 'kiwi', 'grape', 'banana', 'apple']"
      ]
     },
     "execution_count": 41,
     "metadata": {},
     "output_type": "execute_result"
    }
   ],
   "source": [
    "string_list = [\"apple\", \"banana\", \"kiwi\", \"orange\", \"grape\"]\n",
    "\n",
    "string_list.sort(reverse = True)\n",
    "string_list\n",
    "sorted(string_list, reverse = True)\n",
    "string_list\n"
   ]
  },
  {
   "cell_type": "code",
   "execution_count": 44,
   "metadata": {},
   "outputs": [],
   "source": [
    "string_dict = {\"apple\": \"red\", \"banana\": \"yellow\", \"kiwi\": \"brown\", \"orange\": \"orange\", \"grape\": \"purple\"}\n",
    "\n",
    "#value를 중심으로 sort하기\n",
    "a = dict(sorted(string_dict.items(), key = lambda item : item[1]))\n",
    "#key를 중심으로 sort하기\n",
    "b = dict(sorted(string_dict.items(), key = lambda item : item[0]))\n"
   ]
  },
  {
   "cell_type": "code",
   "execution_count": null,
   "metadata": {},
   "outputs": [],
   "source": [
    "string_dict = {\"apple\": \"red\", \"banana\": \"yellow\", \"kiwi\": \"brown\", \"orange\": \"orange\", \"grape\": \"purple\"}\n",
    "\n",
    "# value 중심으로 정렬해보기\n",
    "\n",
    "dict(sorted(string_dict.items(), key = lambda))"
   ]
  }
 ],
 "metadata": {
  "kernelspec": {
   "display_name": "yongwon",
   "language": "python",
   "name": "python3"
  },
  "language_info": {
   "codemirror_mode": {
    "name": "ipython",
    "version": 3
   },
   "file_extension": ".py",
   "mimetype": "text/x-python",
   "name": "python",
   "nbconvert_exporter": "python",
   "pygments_lexer": "ipython3",
   "version": "3.10.0"
  }
 },
 "nbformat": 4,
 "nbformat_minor": 2
}
