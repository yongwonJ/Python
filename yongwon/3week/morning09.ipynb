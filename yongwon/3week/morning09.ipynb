{
 "cells": [
  {
   "cell_type": "code",
   "execution_count": 27,
   "metadata": {},
   "outputs": [
    {
     "name": "stdout",
     "output_type": "stream",
     "text": [
      "심슨 : 30\n",
      "심슨의 인상된 연봉은 75000.0입니다\n",
      "대주주 : 25\n",
      "대주주의 특기는 ['Python', 'JavaScript']이고 미혼입니다!\n",
      "대주주의 인상된 연봉은 120000입니다\n",
      "대주주 : 25\n",
      "대주주의 특기는 ['Python', 'JavaScript']이고 미혼입니다!\n"
     ]
    }
   ],
   "source": [
    "# Employee class (def get_details(). raise_pay())\n",
    "# emp1 = Employee(\"심슨\", 30, 50000)\n",
    "\n",
    "class Employee:\n",
    "    def __init__(self, name, age, pay):\n",
    "        self.name = name\n",
    "        self.age = age\n",
    "        self.pay = pay\n",
    "    \n",
    "    def get_details(self):\n",
    "        print(f\"{self.name} : {self.age}\")\n",
    "    \n",
    "    def raise_pay(self, factor):\n",
    "        self.pay*=factor\n",
    "        print(f\"{self.name}의 인상된 연봉은 {self.pay}입니다\")\n",
    "\n",
    "# dev1 = Developer(\"대주주\", 25, 60000, [\"Python\", \"JavaScript\"], 미혼)\n",
    "\n",
    "class Developer(Employee):\n",
    "    def __init__(self,name, age, pay, skills, marriage):\n",
    "        super().__init__(name, age, pay)\n",
    "        self.skills = skills\n",
    "        self.marriage = marriage #Attribute : 속성\n",
    "    def get_details(self):\n",
    "        super().get_details()\n",
    "        print(f\"{self.name}의 특기는 {self.skills}이고 {self.marriage}입니다!\")\n",
    "\n",
    "\n",
    "emp1 = Employee(\"심슨\", 30, 50000) #인스턴스 객체 emp1를 생성\n",
    "emp1.get_details() # 생성된 객체에 메소드를 사용하는것\n",
    "emp1.raise_pay(1.5)\n",
    "\n",
    "dev1 = Developer(\"대주주\", 25, 60000, [\"Python\", \"JavaScript\"], \"미혼\")#인스턴스 객체 dev1을 생성\n",
    "dev1.skills #인스턴스 객체 dev1의 skills 속성을 불러온것\n",
    "dev1.get_details() #부모 클래스의 메소드를 불러와 자녀 클래스에서 해당 메소드를 사용\n",
    "dev1.name #부모 클래스의 속성값을 가져와서 자녀클래스에서 사용\n",
    "dev1.marriage #인스턴스 객체 dev1의 속성값을 출력\n",
    "dev1.raise_pay(2)# 부모 클래스의 메소드를 불러와 사용.\n",
    "dev1.get_details()"
   ]
  },
  {
   "cell_type": "code",
   "execution_count": 1,
   "metadata": {},
   "outputs": [
    {
     "name": "stdout",
     "output_type": "stream",
     "text": [
      "Name is 심슨. Age is 30. Pay is 50000.\n",
      "Name is 심슨. Age is 30. Pay is 65000.0.\n",
      "Name is 대주주. Age is 25. Pay is 60000.\n",
      "ㅂStength is ['Python', 'JavaScript']\n"
     ]
    }
   ],
   "source": [
    "class Employee:\n",
    "    def __init__(self, name, age, pay):\n",
    "        self.name = name\n",
    "        self.age = age\n",
    "        self.pay = pay\n",
    "\n",
    "    \n",
    "    def get_details(self):\n",
    "        print(f\"Name is {self.name}. Age is {self.age}. Pay is {self.pay}.\")\n",
    "        \n",
    "    def raise_pay(self, num1):\n",
    "        self.pay = self.pay * num1\n",
    "\n",
    "emp1 = Employee(\"심슨\", 30, 50000)\n",
    "emp1.get_details()\n",
    "emp1.raise_pay(1.3)\n",
    "emp1.get_details()\n",
    "\n",
    "class Developer(Employee):\n",
    "    def __init__(self, name, age, pay, strength):\n",
    "        super().__init__(name, age, pay)\n",
    "        self.strength = strength\n",
    "    \n",
    "    def get_details(self):\n",
    "        super().get_details()\n",
    "        print(f\"ㅂStength is {self.strength}\")        \n",
    "dev1 = Developer(\"대주주\", 25, 60000, [\"Python\", \"JavaScript\"])\n",
    "# dev1.get_details()\n",
    "# dev1.raise_pay(2)\n",
    "dev1.get_details()"
   ]
  },
  {
   "cell_type": "code",
   "execution_count": 2,
   "metadata": {},
   "outputs": [
    {
     "name": "stdout",
     "output_type": "stream",
     "text": [
      "[1, 2, '짝', 4, 5, '짝', 7, 8, '짝', 10, 11, 12, '짝', 14, 15, '짝', 17, 18, '짝', 20, 21, 22, '짝', 24, 25, '짝', 27, 28, '짝', '짝', '짝', '짝', '짝짝', '짝', '짝', '짝짝', '짝', '짝', '짝짝', 40, 41, 42, '짝', 44, 45, '짝', 47, 48, '짝', 50]\n"
     ]
    }
   ],
   "source": [
    "list=range(1,51)\n",
    "list_369=[]\n",
    "for num in list:\n",
    "    if num<10:\n",
    "        if num%3==0:\n",
    "            list_369.append(\"짝\")\n",
    "        else:\n",
    "            list_369.append(num)\n",
    "    else:\n",
    "        if (num//10==3 and (num%10)%3==0):\n",
    "            if num%10==0:\n",
    "                list_369.append(\"짝\")\n",
    "            else:\n",
    "                list_369.append(\"짝짝\")\n",
    "        elif(num//10==3 or (num%10)%3==0):\n",
    "            if num%10 ==0:\n",
    "                list_369.append(num)\n",
    "            else:\n",
    "                list_369.append('짝')\n",
    "        else:\n",
    "            list_369.append(num)\n",
    "print(list_369)\n"
   ]
  }
 ],
 "metadata": {
  "kernelspec": {
   "display_name": "yongwon",
   "language": "python",
   "name": "python3"
  },
  "language_info": {
   "codemirror_mode": {
    "name": "ipython",
    "version": 3
   },
   "file_extension": ".py",
   "mimetype": "text/x-python",
   "name": "python",
   "nbconvert_exporter": "python",
   "pygments_lexer": "ipython3",
   "version": "3.10.0"
  }
 },
 "nbformat": 4,
 "nbformat_minor": 2
}
