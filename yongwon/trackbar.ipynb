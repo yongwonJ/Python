{
 "cells": [
  {
   "cell_type": "code",
   "execution_count": 3,
   "metadata": {},
   "outputs": [],
   "source": [
    "import cv2\n",
    "import numpy as np\n",
    "\n",
    "def callBack(Value): ##이벤트함수 : 뭔가 일어날 때마다) 버튼 같은 거 누를 때마다 변화를 줘야할 때 콜백함수 사용\n",
    "    pass #아무일도 하지마 : 왜썼나...? 콜백함수를 무조건 쓰라고헀으니까...\n",
    "\n",
    "img_path = 'catt.jpg'\n",
    "img = cv2.imread(img_path)\n",
    "img_gray = cv2.cvtColor(img, cv2.COLOR_BGR2GRAY)\n",
    "img_blur = cv2.GaussianBlur(img_gray,(5,5),1)\n",
    "\n",
    "cv2.namedWindow(\"Slider\")\n",
    "cv2.createTrackbar(\"high_t\",\"Slider\",10,255,callBack)\n",
    "\n",
    "while True :\n",
    "    high_t = cv2.getTrackbarPos(\"high_t\",\"Slider\") # 매 프레임마다 체크하기\n",
    "    img_canny = cv2.Canny(img_blur, 10,high_t )\n",
    "\n",
    "    cv2.imshow(\"Cat\",img_canny)\n",
    "    # cv2.imshow(\"gray\",img_gray)\n",
    "    # cv2.imshow(\"Blur\",img_blur)\n",
    "    if cv2.waitKey(10)& 0xff == ord('q'):\n",
    "        break\n",
    "    \n",
    "    \n",
    "\n",
    "cv2.destroyAllWindows()\n",
    "\n"
   ]
  },
  {
   "cell_type": "code",
   "execution_count": 4,
   "metadata": {},
   "outputs": [],
   "source": [
    "img_path = 'catt.jpg'\n",
    "img = cv2.imread(img_path)\n",
    "img_gray = cv2.cvtColor(img, cv2.COLOR_BGR2GRAY)\n",
    "img_blur = cv2.GaussianBlur(img_gray,(5,5),1)\n",
    "\n",
    "cv2.namedWindow(\"Slider\")\n",
    "cv2.createTrackbar(\"high_t\",\"Slider\",10,255,callBack)\n",
    "\n",
    "while True :\n",
    "    high_t = cv2.getTrackbarPos(\"high_t\",\"Slider\")\n",
    "    img_blur = cv2.GaussianBlur(img_gray,(5,5),high_t)\n",
    "\n",
    "    cv2.imshow(\"Cat\",img_blur)\n",
    "    # cv2.imshow(\"gray\",img_gray)\n",
    "    # cv2.imshow(\"Blur\",img_blur)\n",
    "    if cv2.waitKey(10)& 0xff == ord('q'):\n",
    "        break\n",
    "    \n",
    "    \n",
    "\n",
    "cv2.destroyAllWindows()\n"
   ]
  }
 ],
 "metadata": {
  "kernelspec": {
   "display_name": "yongwon",
   "language": "python",
   "name": "python3"
  },
  "language_info": {
   "codemirror_mode": {
    "name": "ipython",
    "version": 3
   },
   "file_extension": ".py",
   "mimetype": "text/x-python",
   "name": "python",
   "nbconvert_exporter": "python",
   "pygments_lexer": "ipython3",
   "version": "3.10.0"
  }
 },
 "nbformat": 4,
 "nbformat_minor": 2
}
