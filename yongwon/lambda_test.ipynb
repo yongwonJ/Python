{
 "cells": [
  {
   "cell_type": "code",
   "execution_count": 36,
   "metadata": {},
   "outputs": [
    {
     "name": "stdout",
     "output_type": "stream",
     "text": [
      "[1, 2, 9, 4, 25, 6, 49, 8, 81]\n",
      "['banana', 'orange']\n",
      "['0', '홀수', '짝수', '홀수', '짝수', '홀수', '짝수', '홀수', '짝수', '홀수', '짝수']\n"
     ]
    }
   ],
   "source": [
    "#1번 문제\n",
    "original_list = [1,3,5,7,9]\n",
    "x = list(map(lambda x : x+3, original_list  ))\n",
    "x\n",
    "#2번 문제   \n",
    "numbers = [1, 2, 3, 4, 5, 6, 7, 8, 9]\n",
    "y= list(map(lambda x: x if x %2 == 0 else x*x, numbers))\n",
    "print(y)\n",
    "\n",
    "#3번 문제\n",
    "words = [\"apple\", \"banana\", \"kiwi\", \"orange\", \"grape\"]\n",
    "\n",
    "a = list(filter(lambda x : len(x)>5, words))\n",
    "print(a)\n",
    "\n",
    "#4번\n",
    "list1 = [1, 2, 3, 4]\n",
    "list2 = [5, 6, 7, 8]\n",
    "\n",
    "c = list(map(lambda x, y : x*y,list1, list2 ))\n",
    "c\n",
    "\n",
    "#5번\n",
    "\n",
    "#6번\n",
    "list6 = list(map(lambda x: \"0\" if x==0 else(\"홀수\" if x%2 ==1 else \"짝수\") , range(11) ))#골라는 게 아니라 하나씩 분류해야되나까\n",
    "print(list6)\n",
    "\n"
   ]
  }
 ],
 "metadata": {
  "kernelspec": {
   "display_name": "yongwon",
   "language": "python",
   "name": "python3"
  },
  "language_info": {
   "codemirror_mode": {
    "name": "ipython",
    "version": 3
   },
   "file_extension": ".py",
   "mimetype": "text/x-python",
   "name": "python",
   "nbconvert_exporter": "python",
   "pygments_lexer": "ipython3",
   "version": "3.10.0"
  }
 },
 "nbformat": 4,
 "nbformat_minor": 2
}
