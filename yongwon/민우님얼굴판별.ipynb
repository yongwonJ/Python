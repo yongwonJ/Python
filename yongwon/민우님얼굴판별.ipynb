{
 "cells": [
  {
   "cell_type": "code",
   "execution_count": 3,
   "metadata": {},
   "outputs": [],
   "source": [
    "# 민우님 코드\n",
    "import cv2\n",
    "\n",
    "# 카메라 준비\n",
    "cap = cv2.VideoCapture(0)\n",
    "face_cascade = cv2.CascadeClassifier('haarcascade_frontalface_default.xml')\n",
    "eye_cascade = cv2.CascadeClassifier('haarcascade_eye.xml')\n",
    "\n",
    "# cap.set(3, 640)  # width\n",
    "# cap.set(4, 480)  # height\n",
    "count = 0\n",
    "# 카메라 읽기\n",
    "while True:\n",
    "    # 프레임을 이미지로 읽어들임\n",
    "    _, frame = cap.read()\n",
    "    \n",
    "    gray_frame = cv2.cvtColor(frame, cv2.COLOR_BGR2GRAY)\n",
    "    faces = face_cascade.detectMultiScale(gray_frame, scaleFactor=1.1, minNeighbors=5, minSize=(30, 30))\n",
    "\n",
    "    for (x, y, w, h) in faces:\n",
    "        cv2.rectangle(frame, (x, y), (x+w, y+h), (255, 0, 0), 2)\n",
    "        \n",
    "        # 얼굴 영역을 잘라서 그 부분에서 눈을 찾기\n",
    "        roi_gray = gray_frame[y:y+h, x:x+w]\n",
    "        roi_color = frame[y:y+h, x:x+w]\n",
    "\n",
    "        eyes = eye_cascade.detectMultiScale(roi_gray, scaleFactor=1.1, minNeighbors=5, minSize=(10, 10), maxSize=(50, 50))\n",
    "\n",
    "        if len(eyes) >= 2:\n",
    "            eye_list = sorted(eyes, key=lambda eye: eye[0])\n",
    "            left_eye = eye_list[0]\n",
    "            right_eye = eye_list[1]\n",
    "\n",
    "            eye_x1 = left_eye[0]\n",
    "            eye_y1 = left_eye[1]\n",
    "            eye_x2 = right_eye[0] + right_eye[2]\n",
    "            eye_y2 = right_eye[1] + right_eye[3]\n",
    "\n",
    "            cv2.rectangle(roi_color, (eye_x1, eye_y1), (eye_x2, eye_y2), (0, 0, 0), -1)\n",
    "\n",
    "    # 결과 보여주기\n",
    "    cv2.imshow('Video', frame)\n",
    "\n",
    "    # 키보드 q가 눌렸을 때,\n",
    "    key = cv2.waitKey(10)\n",
    "    if key == ord('q'):\n",
    "        break\n",
    "    elif key == ord('s'):\n",
    "        cv2.imwrite(f\"eye{count}.jpg\",frame)\n",
    "        count+=1\n",
    "\n",
    "cap.release()\n",
    "cv2.destroyAllWindows()"
   ]
  }
 ],
 "metadata": {
  "kernelspec": {
   "display_name": "yongwon",
   "language": "python",
   "name": "python3"
  },
  "language_info": {
   "codemirror_mode": {
    "name": "ipython",
    "version": 3
   },
   "file_extension": ".py",
   "mimetype": "text/x-python",
   "name": "python",
   "nbconvert_exporter": "python",
   "pygments_lexer": "ipython3",
   "version": "3.10.0"
  }
 },
 "nbformat": 4,
 "nbformat_minor": 2
}
