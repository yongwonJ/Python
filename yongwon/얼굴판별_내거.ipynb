{
 "cells": [
  {
   "cell_type": "code",
   "execution_count": 1,
   "metadata": {},
   "outputs": [
    {
     "ename": "NameError",
     "evalue": "name 'faces' is not defined",
     "output_type": "error",
     "traceback": [
      "\u001b[1;31m---------------------------------------------------------------------------\u001b[0m",
      "\u001b[1;31mNameError\u001b[0m                                 Traceback (most recent call last)",
      "Cell \u001b[1;32mIn[1], line 20\u001b[0m\n\u001b[0;32m     16\u001b[0m \u001b[38;5;28;01mwhile\u001b[39;00m \u001b[38;5;28;01mTrue\u001b[39;00m:\n\u001b[0;32m     17\u001b[0m     \u001b[38;5;66;03m# frame을 image로 생각하면 된다.\u001b[39;00m\n\u001b[0;32m     18\u001b[0m     _, frame \u001b[38;5;241m=\u001b[39m cap\u001b[38;5;241m.\u001b[39mread()\n\u001b[1;32m---> 20\u001b[0m     \u001b[38;5;28;01mfor\u001b[39;00m face \u001b[38;5;129;01min\u001b[39;00m \u001b[43mfaces\u001b[49m :\n\u001b[0;32m     21\u001b[0m         cv2\u001b[38;5;241m.\u001b[39mrectangle(frame, ())\n\u001b[0;32m     22\u001b[0m     gray_frame \u001b[38;5;241m=\u001b[39m cv2\u001b[38;5;241m.\u001b[39mcvtColor(frame, cv2\u001b[38;5;241m.\u001b[39mCOLOR_BGR2GRAY)\n",
      "\u001b[1;31mNameError\u001b[0m: name 'faces' is not defined"
     ]
    }
   ],
   "source": [
    "import cv2\n",
    "\n",
    "# camera 준비\n",
    "cap = cv2.VideoCapture(0)\n",
    "face_cascade = cv2.CascadeClassifier(r'haarcascade_frontalface_default.xml')\n",
    "\n",
    "# 비디오 사이즈를 바꾸고 싶을 때,\n",
    "# 3 이 width, 100이 height \n",
    "# cap.set(3,100)\n",
    "# cap.set(100,100)\n",
    "cap.set(600,100)\n",
    "low = 50\n",
    "high = 150\n",
    "\n",
    "# camera 읽어\n",
    "while True:\n",
    "    # frame을 image로 생각하면 된다.\n",
    "    _, frame = cap.read()\n",
    "\n",
    "    for face in faces :\n",
    "        cv2.rectangle(frame, ())\n",
    "    gray_frame = cv2.cvtColor(frame, cv2.COLOR_BGR2GRAY)\n",
    "\n",
    "    # gray로 이미지 변경하고, \n",
    "    # scalefactor로 bounding box 크기 정하기 \n",
    "    # # minNeighbors 얼굴로 인식한 것 5개면 얼굴로 인식한다.\n",
    "    # minSize = 취급하고 싶은 정도. 너무 멀리 있는 작은 사이즈 얼굴은 무시한다고 생각 \n",
    "   # 얼굴 찾기\n",
    "    faces = face_cascade.detectMultiScale(gray_frame, scaleFactor=1.1, minNeighbors=5, minSize=(30, 30))\n",
    "\n",
    "    print(len(faces)) #[[]]하나당 1명이니까 길이로 보면 명수를 알 수 있다.\n",
    "    \n",
    "    # 입력 window를 frame으로 불러온다.\n",
    "    cv2.imshow('Video', frame)\n",
    "    cv2.imshow('Gray', gray_frame)\n",
    "\n",
    "\n",
    "    # 키보드 q가 눌렸을 때,\n",
    "    if cv2.waitKey(10) & 0xff==ord('q'):\n",
    "        break\n",
    "\n",
    "cap.release()\n",
    "cv2.destroyAllWindows()\n",
    "\n",
    "#x,y,w,h  = [[270  93 171 171]]\n",
    "#x,y : face가 인식된 첫 좌표\n",
    "#w, h : w와, h길이 이동후 좌표\n"
   ]
  }
 ],
 "metadata": {
  "kernelspec": {
   "display_name": "yongwon",
   "language": "python",
   "name": "python3"
  },
  "language_info": {
   "codemirror_mode": {
    "name": "ipython",
    "version": 3
   },
   "file_extension": ".py",
   "mimetype": "text/x-python",
   "name": "python",
   "nbconvert_exporter": "python",
   "pygments_lexer": "ipython3",
   "version": "3.10.0"
  }
 },
 "nbformat": 4,
 "nbformat_minor": 2
}
