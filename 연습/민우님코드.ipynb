{
 "cells": [
  {
   "cell_type": "code",
   "execution_count": null,
   "metadata": {},
   "outputs": [],
   "source": [
    "left_gloves = [2, 1, 2, 2, 4]\n",
    "right_gloves = [1, 2, 2, 4, 7]\n",
    "size_dict = {}\n",
    "\n",
    "left_gloves.sort()\n",
    "right_gloves.sort()\n",
    "\n",
    "for size in left_gloves:\n",
    "    if size in size_dict:\n",
    "        size_dict[size][0] += 1\n",
    "    else:\n",
    "        size_dict[size] = [1, 0]\n",
    "\n",
    "print(size_dict)\n",
    "\n",
    "for size in right_gloves:\n",
    "    if size in size_dict:\n",
    "        size_dict[size][1] += 1\n",
    "    else:\n",
    "        size_dict[size] = [0, 1]\n",
    "\n",
    "print(size_dict)\n",
    "\n",
    "pair_count = {size: min(counts) for size, counts in size_dict.items()}\n",
    "print(pair_count)"
   ]
  },
  {
   "cell_type": "code",
   "execution_count": 1,
   "metadata": {},
   "outputs": [
    {
     "ename": "ModuleNotFoundError",
     "evalue": "No module named 'matplotlib'",
     "output_type": "error",
     "traceback": [
      "\u001b[1;31m---------------------------------------------------------------------------\u001b[0m",
      "\u001b[1;31mModuleNotFoundError\u001b[0m                       Traceback (most recent call last)",
      "Cell \u001b[1;32mIn[1], line 2\u001b[0m\n\u001b[0;32m      1\u001b[0m \u001b[38;5;28;01mimport\u001b[39;00m \u001b[38;5;21;01mrandom\u001b[39;00m\n\u001b[1;32m----> 2\u001b[0m \u001b[38;5;28;01mimport\u001b[39;00m \u001b[38;5;21;01mmatplotlib\u001b[39;00m\u001b[38;5;21;01m.\u001b[39;00m\u001b[38;5;21;01mpyplot\u001b[39;00m \u001b[38;5;28;01mas\u001b[39;00m \u001b[38;5;21;01mplt\u001b[39;00m\n\u001b[0;32m      3\u001b[0m \u001b[38;5;28;01mimport\u001b[39;00m \u001b[38;5;21;01mnumpy\u001b[39;00m \u001b[38;5;28;01mas\u001b[39;00m \u001b[38;5;21;01mnp\u001b[39;00m\n\u001b[0;32m      5\u001b[0m dice \u001b[38;5;241m=\u001b[39m [random\u001b[38;5;241m.\u001b[39mrandint(\u001b[38;5;241m1\u001b[39m, \u001b[38;5;241m6\u001b[39m) \u001b[38;5;28;01mfor\u001b[39;00m i \u001b[38;5;129;01min\u001b[39;00m \u001b[38;5;28mrange\u001b[39m(\u001b[38;5;241m10000\u001b[39m)]\n",
      "\u001b[1;31mModuleNotFoundError\u001b[0m: No module named 'matplotlib'"
     ]
    }
   ],
   "source": [
    "import random\n",
    "import matplotlib.pyplot as plt\n",
    "import numpy as np\n",
    "\n",
    "dice = [random.randint(1, 6) for i in range(10000)]\n",
    "\n",
    "freq_dict = {i: dice.count(i) for i in range(1, 7)}\n",
    "\n",
    "print(freq_dict)\n",
    "\n",
    "x = np.arange(1, 7)\n",
    "freq_list = [freq_dict[freq] for freq in x]\n",
    "\n",
    "#plt.hist(dice, bins = 20)\n",
    "plt.bar(x, freq_list)\n",
    "plt.xticks(x)\n",
    "\n",
    "plt.show()"
   ]
  }
 ],
 "metadata": {
  "kernelspec": {
   "display_name": "Python 3",
   "language": "python",
   "name": "python3"
  },
  "language_info": {
   "codemirror_mode": {
    "name": "ipython",
    "version": 3
   },
   "file_extension": ".py",
   "mimetype": "text/x-python",
   "name": "python",
   "nbconvert_exporter": "python",
   "pygments_lexer": "ipython3",
   "version": "3.10.0"
  }
 },
 "nbformat": 4,
 "nbformat_minor": 2
}
