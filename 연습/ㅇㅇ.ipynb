{
 "cells": [
  {
   "cell_type": "code",
   "execution_count": 47,
   "metadata": {},
   "outputs": [
    {
     "name": "stdout",
     "output_type": "stream",
     "text": [
      "{2: 14, 3: 19, 6: 18, 4: 16, 1: 21, 5: 12}\n",
      "2 19\n",
      "6 16\n",
      "3 17\n",
      "5 13\n",
      "4 14\n",
      "1 21\n"
     ]
    },
    {
     "ename": "ModuleNotFoundError",
     "evalue": "No module named 'matplotlib'",
     "output_type": "error",
     "traceback": [
      "\u001b[1;31m---------------------------------------------------------------------------\u001b[0m",
      "\u001b[1;31mModuleNotFoundError\u001b[0m                       Traceback (most recent call last)",
      "Cell \u001b[1;32mIn[47], line 32\u001b[0m\n\u001b[0;32m     30\u001b[0m \u001b[38;5;28;01mfor\u001b[39;00m k, v \u001b[38;5;129;01min\u001b[39;00m Dict\u001b[38;5;241m.\u001b[39mitems():\n\u001b[0;32m     31\u001b[0m     \u001b[38;5;28mprint\u001b[39m(k,v)\n\u001b[1;32m---> 32\u001b[0m \u001b[38;5;28;01mimport\u001b[39;00m \u001b[38;5;21;01mmatplotlib\u001b[39;00m\u001b[38;5;21;01m.\u001b[39;00m\u001b[38;5;21;01mpyplot\u001b[39;00m \u001b[38;5;28;01mas\u001b[39;00m \u001b[38;5;21;01mplt\u001b[39;00m\n\u001b[0;32m     33\u001b[0m plt\u001b[38;5;241m.\u001b[39mhist(Dice, \u001b[38;5;28mbin\u001b[39m \u001b[38;5;241m=\u001b[39m \u001b[38;5;241m20\u001b[39m)\n\u001b[0;32m     35\u001b[0m \u001b[38;5;66;03m#다른 사람 풀이\u001b[39;00m\n",
      "\u001b[1;31mModuleNotFoundError\u001b[0m: No module named 'matplotlib'"
     ]
    }
   ],
   "source": [
    "movies = [\"movie\", \"나의 아저씨\", \"서울의 봄\"]\n",
    "main_actors = [\"main_actor\", \"이선균\", \"정우성\"]\n",
    "\n",
    "movies_tuple = [tuple(movies), tuple(main_actors)]\n",
    "movies_tuple\n",
    "\n",
    "new_dict = dict(zip(tuple(movies), tuple(main_actors)))\n",
    "new_dict\n",
    "\n",
    "import random\n",
    "\n",
    "Dict = {}\n",
    "for i in range(100):\n",
    "    a = random.randint(1,6)\n",
    "\n",
    "    if a in Dict:\n",
    "        Dict[a] +=1\n",
    "    else:\n",
    "        Dict[a] = 1\n",
    "\n",
    "print(Dict)\n",
    "\n",
    "#선생님 풀이\n",
    "import random\n",
    "from collections import Counter\n",
    "dice = [random.randint(1,6) for _ in range(100)]\n",
    "Dict = Counter(dice)\n",
    "Dict\n",
    "\n",
    "for k, v in Dict.items():\n",
    "    print(k,v)\n",
    "import matplotlib.pyplot as plt\n",
    "plt.hist(Dice, bin = 20)\n",
    "\n",
    "#다른 사람 풀이\n",
    "dice = [random.randint(1,6) for _ in range(100)]\n",
    "freq_dict = {i:dice.count(i) for i in range(1,7)}\n",
    "print(freq_dict)\n",
    "\n",
    "\n",
    "\n",
    "\n"
   ]
  },
  {
   "cell_type": "code",
   "execution_count": null,
   "metadata": {},
   "outputs": [],
   "source": []
  },
  {
   "cell_type": "code",
   "execution_count": 13,
   "metadata": {},
   "outputs": [
    {
     "name": "stdout",
     "output_type": "stream",
     "text": [
      "{5: 16, 6: 20, 4: 14, 3: 14, 1: 20, 2: 16}\n"
     ]
    }
   ],
   "source": [
    "def Rand(a) :\n",
    "    Dict = {}\n",
    "    for i in range(a):\n",
    "        a = random.randint(1,6)\n",
    "\n",
    "        if a in Dict:\n",
    "            Dict[a] +=1\n",
    "        else:\n",
    "            Dict[a] = 1\n",
    "    print(Dict)\n",
    "\n",
    "Rand(100)\n",
    "\n",
    "############선생님 방법\n",
    "\n",
    "# dice = [random.randint(1,6) for _ in range(100)]\n",
    "# freq = {}\n",
    "# count = 0\n",
    "# for num in dice:\n",
    "#     if freq[num] ==1:\n",
    "#         count\n",
    "\n",
    "\n",
    "\n",
    "\n",
    "\n"
   ]
  },
  {
   "cell_type": "code",
   "execution_count": 48,
   "metadata": {},
   "outputs": [
    {
     "ename": "KeyError",
     "evalue": "3",
     "output_type": "error",
     "traceback": [
      "\u001b[1;31m---------------------------------------------------------------------------\u001b[0m",
      "\u001b[1;31mKeyError\u001b[0m                                  Traceback (most recent call last)",
      "Cell \u001b[1;32mIn[48], line 25\u001b[0m\n\u001b[0;32m     21\u001b[0m \u001b[38;5;66;03m# 작은 걸 찾는 법?\u001b[39;00m\n\u001b[0;32m     24\u001b[0m \u001b[38;5;28;01mfor\u001b[39;00m i \u001b[38;5;129;01min\u001b[39;00m \u001b[38;5;28mrange\u001b[39m(\u001b[38;5;241m1\u001b[39m,\u001b[38;5;241m7\u001b[39m):\n\u001b[1;32m---> 25\u001b[0m     \u001b[38;5;28;01mif\u001b[39;00m \u001b[43mDict1\u001b[49m\u001b[43m[\u001b[49m\u001b[43mi\u001b[49m\u001b[43m]\u001b[49m \u001b[38;5;241m>\u001b[39m Dict2[i]:\n\u001b[0;32m     26\u001b[0m         x \u001b[38;5;241m=\u001b[39m Dict2[i]\n\u001b[0;32m     27\u001b[0m     \u001b[38;5;28;01melse\u001b[39;00m :\n",
      "\u001b[1;31mKeyError\u001b[0m: 3"
     ]
    }
   ],
   "source": [
    "#5일차 복습문제\n",
    "# enumerate써서 해보자\n",
    "left_gloves = [2, 1, 2, 2, 4]\n",
    "right_gloves = [1, 2, 2, 4, 4, 7]\n",
    "\n",
    "Dict1 = {}\n",
    "Dict2 = {}\n",
    "\n",
    "for i, x in enumerate(left_gloves):\n",
    "    if x in Dict1 :\n",
    "        Dict1[x] +=1\n",
    "    else:\n",
    "        Dict1[x] =1\n",
    "\n",
    "for i, x in enumerate(right_gloves):\n",
    "    if x in Dict2 :\n",
    "        Dict2[x] +=1\n",
    "    else:\n",
    "        Dict2[x] =1\n",
    "\n",
    "# 작은 걸 찾는 법?\n",
    "\n",
    "\n",
    "for i in range(1,7):\n",
    "    if Dict1[i] > Dict2[i]:\n",
    "        x = Dict2[i]\n",
    "    else :\n",
    "        x = Dict1[i]\n",
    "\n",
    "\n",
    "\n",
    "\n",
    "\n",
    "\n",
    "\n"
   ]
  },
  {
   "cell_type": "code",
   "execution_count": 51,
   "metadata": {},
   "outputs": [
    {
     "ename": "ModuleNotFoundError",
     "evalue": "No module named 'numpy'",
     "output_type": "error",
     "traceback": [
      "\u001b[1;31m---------------------------------------------------------------------------\u001b[0m",
      "\u001b[1;31mModuleNotFoundError\u001b[0m                       Traceback (most recent call last)",
      "Cell \u001b[1;32mIn[51], line 1\u001b[0m\n\u001b[1;32m----> 1\u001b[0m \u001b[38;5;28;01mimport\u001b[39;00m \u001b[38;5;21;01mnumpy\u001b[39;00m \u001b[38;5;28;01mas\u001b[39;00m \u001b[38;5;21;01mnp\u001b[39;00m\n",
      "\u001b[1;31mModuleNotFoundError\u001b[0m: No module named 'numpy'"
     ]
    }
   ],
   "source": [
    "import numpy as np\n",
    "\n",
    "\n"
   ]
  }
 ],
 "metadata": {
  "kernelspec": {
   "display_name": "Python 3",
   "language": "python",
   "name": "python3"
  },
  "language_info": {
   "codemirror_mode": {
    "name": "ipython",
    "version": 3
   },
   "file_extension": ".py",
   "mimetype": "text/x-python",
   "name": "python",
   "nbconvert_exporter": "python",
   "pygments_lexer": "ipython3",
   "version": "3.10.0"
  }
 },
 "nbformat": 4,
 "nbformat_minor": 2
}
